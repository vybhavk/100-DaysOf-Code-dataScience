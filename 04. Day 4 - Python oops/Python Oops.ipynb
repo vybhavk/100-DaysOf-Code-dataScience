{
  "cells": [
    {
      "cell_type": "markdown",
      "id": "406a68cc",
      "metadata": {
        "id": "406a68cc"
      },
      "source": [
        "# --------------Python Oops---------------"
      ]
    },
    {
      "cell_type": "markdown",
      "id": "b7d89771",
      "metadata": {
        "id": "b7d89771"
      },
      "source": [
        "# Creating a Class:\n",
        "A class is a blueprint or a template for creating objects while an object is an instance or a copy of the class with actual values.\n"
      ]
    },
    {
      "cell_type": "code",
      "execution_count": 1,
      "id": "711695a7",
      "metadata": {
        "id": "711695a7"
      },
      "outputs": [],
      "source": [
        "#Create a class using the class keyword.\n",
        "class Details:\n",
        "    name = \"Vybhav\"\n",
        "    address = \"US\"\n",
        "    age = 32"
      ]
    },
    {
      "cell_type": "markdown",
      "id": "3d7cdd69",
      "metadata": {
        "id": "3d7cdd69"
      },
      "source": [
        "# Creating an Object:\n",
        "create object of the class."
      ]
    },
    {
      "cell_type": "code",
      "execution_count": 3,
      "id": "0b239a61",
      "metadata": {
        "id": "0b239a61",
        "outputId": "924ee409-bf4a-429b-eb55-63a8cce33150",
        "colab": {
          "base_uri": "https://localhost:8080/"
        }
      },
      "outputs": [
        {
          "output_type": "stream",
          "name": "stdout",
          "text": [
            "Vybhav\n",
            "US\n",
            "32\n"
          ]
        }
      ],
      "source": [
        "class Details:\n",
        "    name = \"Vybhav\"\n",
        "    address = \"US\"\n",
        "    age = 32\n",
        "\n",
        "obj1 = Details()\n",
        "print(obj1.name)\n",
        "print(obj1.address)\n",
        "print(obj1.age)"
      ]
    },
    {
      "cell_type": "markdown",
      "id": "8e63c263",
      "metadata": {
        "id": "8e63c263"
      },
      "source": [
        "# self method\n",
        "The self parameter is a reference to the current instance of the class, and is used to access variables that belong to the class.\n",
        "\n",
        "It must be provided as the extra parameter inside the method definition."
      ]
    },
    {
      "cell_type": "code",
      "execution_count": 4,
      "id": "9a90b671",
      "metadata": {
        "id": "9a90b671",
        "outputId": "515c4764-a3ec-4f5e-a3d9-878f06d45503",
        "colab": {
          "base_uri": "https://localhost:8080/"
        }
      },
      "outputs": [
        {
          "output_type": "stream",
          "name": "stdout",
          "text": [
            "My name is Vybhav I'm from US and I'm 32 years old.\n"
          ]
        }
      ],
      "source": [
        "class Details:\n",
        "    name = \"Vybhav\"\n",
        "    address = \"US\"\n",
        "    age = 32\n",
        "\n",
        "    def desc(self):\n",
        "        print(\"My name is\", self.name,\n",
        "              \"I'm from\",self.address,\n",
        "              \"and I'm\", self.age, \"years old.\")\n",
        "\n",
        "obj1 = Details()\n",
        "obj1.desc()"
      ]
    },
    {
      "cell_type": "markdown",
      "id": "27154158",
      "metadata": {
        "id": "27154158"
      },
      "source": [
        "# __init__ method\n",
        "The __init__ method is used to initialize the object’s state and contains statements that are executed at the time of object creation.\n"
      ]
    },
    {
      "cell_type": "code",
      "execution_count": 5,
      "id": "9ee0df95",
      "metadata": {
        "id": "9ee0df95",
        "outputId": "71e776e0-bfd2-4bd0-9a89-6dc1d6d8574a",
        "colab": {
          "base_uri": "https://localhost:8080/"
        }
      },
      "outputs": [
        {
          "output_type": "stream",
          "name": "stdout",
          "text": [
            "Hello my name is Vybhav \n"
          ]
        }
      ],
      "source": [
        "#The string representation of an object WITHOUT the __str__() function:\n",
        "class Details:\n",
        "    def __init__(self, name, age):\n",
        "        self.name = name\n",
        "        self.age = age\n",
        "\n",
        "obj1 = Details(\"Vybhav \", 32)\n",
        "print(\"Hello my name is \" + obj1.name)"
      ]
    },
    {
      "cell_type": "code",
      "execution_count": 8,
      "id": "51cec7fc",
      "metadata": {
        "id": "51cec7fc",
        "outputId": "f511d736-bfea-42cd-ece3-fdc0e5833b47",
        "colab": {
          "base_uri": "https://localhost:8080/"
        }
      },
      "outputs": [
        {
          "output_type": "stream",
          "name": "stdout",
          "text": [
            "Hello this is Vybhav ,I am 36 old\n"
          ]
        }
      ],
      "source": [
        "#The string representation of an object WITH the __str__() function:\n",
        "class Details:\n",
        "    def __init__(self, name, age):\n",
        "        self.name = name\n",
        "        self.age = age\n",
        "\n",
        "    def __str__(self):\n",
        "        return f\"Hello this is {self.name } ,I am {self.age} old\"\n",
        "obj1 = Details(\"Vybhav\", 36)\n",
        "\n",
        "print(obj1)"
      ]
    },
    {
      "cell_type": "markdown",
      "id": "102b4166",
      "metadata": {
        "id": "102b4166"
      },
      "source": [
        "# Python Iterators\n",
        "Iterators in python are used to iterate over iterable objects or container datatypes like lists, tuples, dictionaries, sets, etc.\n",
        "\n",
        "It consists of __iter__() and __next__() methods.\n",
        "\n",
        "__iter__() : to initialize an iterator, use the __iter__() method.\n",
        "\n",
        "__next__() : This method returns the next item of the sequence.\n"
      ]
    },
    {
      "cell_type": "code",
      "execution_count": 12,
      "id": "3bfd9ea2",
      "metadata": {
        "id": "3bfd9ea2",
        "outputId": "85bdc0c6-558f-4796-cc9e-d7fb36693916",
        "colab": {
          "base_uri": "https://localhost:8080/"
        }
      },
      "outputs": [
        {
          "output_type": "stream",
          "name": "stdout",
          "text": [
            "V\n",
            "y\n",
            "b\n",
            "h\n",
            "a\n",
            "v\n",
            " \n",
            "r\n",
            "e\n",
            "d\n",
            "d\n",
            "y\n",
            "\n"
          ]
        }
      ],
      "source": [
        "#Using inbuilt iterators:\n",
        "string = 'Vybhav reddy'\n",
        "iterObj = iter(string)\n",
        "\n",
        "while True:\n",
        "    try:\n",
        "      char = next(iterObj)\n",
        "      print(char)\n",
        "    except StopIteration as e:\n",
        "      print(e)\n",
        "      break"
      ]
    },
    {
      "cell_type": "code",
      "execution_count": 15,
      "id": "98e61679",
      "metadata": {
        "id": "98e61679",
        "outputId": "61042264-cefc-40f3-c476-7efb8ab22d66",
        "colab": {
          "base_uri": "https://localhost:8080/"
        }
      },
      "outputs": [
        {
          "output_type": "stream",
          "name": "stdout",
          "text": [
            "4\n",
            "8\n",
            "12\n",
            "16\n",
            "20\n",
            "24\n",
            "28\n",
            "32\n",
            "36\n",
            "40\n",
            "44\n",
            "48\n",
            "52\n",
            "56\n",
            "60\n",
            "64\n",
            "68\n",
            "72\n",
            "76\n",
            "80\n",
            "84\n",
            "88\n",
            "92\n",
            "96\n",
            "100\n"
          ]
        }
      ],
      "source": [
        "#Creating Custom iterators:\n",
        "class multipleOf4:\n",
        "    def __iter__(self):\n",
        "       self.count = 0\n",
        "       return self\n",
        "\n",
        "    def __next__(self):\n",
        "      if self.count < 100:\n",
        "        self.count += 4\n",
        "        return self.count\n",
        "      else:\n",
        "        raise StopIteration\n",
        "\n",
        "\n",
        "obj1 = multipleOf4()\n",
        "number = iter(obj1)\n",
        "\n",
        "for x in number:\n",
        "    print(x)"
      ]
    },
    {
      "cell_type": "markdown",
      "id": "024b8953",
      "metadata": {
        "id": "024b8953"
      },
      "source": [
        "# --------------Python Try Except----------------"
      ]
    },
    {
      "cell_type": "markdown",
      "id": "a157b92d",
      "metadata": {
        "id": "a157b92d"
      },
      "source": [
        "The try block lets you test a block of code for errors.\n",
        "\n",
        "The except block lets you handle the error.\n",
        "\n",
        "The else block lets you execute code when there is no error.\n",
        "\n",
        "The finally block lets you execute code, regardless of the result of the try- and except blocks."
      ]
    },
    {
      "cell_type": "code",
      "execution_count": 16,
      "id": "5bde744d",
      "metadata": {
        "id": "5bde744d",
        "outputId": "97176a70-324f-4e7e-bd61-a708562d13af",
        "colab": {
          "base_uri": "https://localhost:8080/"
        }
      },
      "outputs": [
        {
          "name": "stdout",
          "output_type": "stream",
          "text": [
            "Enter an integer: 55\n"
          ]
        }
      ],
      "source": [
        "try:\n",
        "    num = int(input(\"Enter an integer: \"))\n",
        "except ValueError:\n",
        "    print(\"Number entered is not an integer.\")"
      ]
    },
    {
      "cell_type": "code",
      "execution_count": 17,
      "id": "de4044c3",
      "metadata": {
        "id": "de4044c3",
        "outputId": "3791be1b-7441-474f-b33a-7c8be1f52f0f",
        "colab": {
          "base_uri": "https://localhost:8080/"
        }
      },
      "outputs": [
        {
          "output_type": "stream",
          "name": "stdout",
          "text": [
            "Enter an integer: sdf\n",
            "Number entered is not an integer.\n"
          ]
        }
      ],
      "source": [
        "try:\n",
        "    num = int(input(\"Enter an integer: \"))\n",
        "except ValueError:\n",
        "    print(\"Number entered is not an integer.\")\n",
        "else:\n",
        "    print(\"Integer Accepted.\")"
      ]
    },
    {
      "cell_type": "code",
      "execution_count": 18,
      "id": "81b22063",
      "metadata": {
        "id": "81b22063",
        "outputId": "f84de0ba-bbc9-4d53-bbb7-ac2bb6ae4315",
        "colab": {
          "base_uri": "https://localhost:8080/"
        }
      },
      "outputs": [
        {
          "output_type": "stream",
          "name": "stdout",
          "text": [
            "Enter an integer: er\n",
            "Number entered is not an integer.\n",
            "This block is always executed.\n"
          ]
        }
      ],
      "source": [
        "try:\n",
        "    num = int(input(\"Enter an integer: \"))\n",
        "except ValueError:\n",
        "    print(\"Number entered is not an integer.\")\n",
        "else:\n",
        "    print(\"Integer Accepted.\")\n",
        "finally:\n",
        "    print(\"This block is always executed.\")"
      ]
    },
    {
      "cell_type": "code",
      "source": [],
      "metadata": {
        "id": "1n_9LdYdWroO"
      },
      "id": "1n_9LdYdWroO",
      "execution_count": null,
      "outputs": []
    }
  ],
  "metadata": {
    "kernelspec": {
      "display_name": "Python 3 (ipykernel)",
      "language": "python",
      "name": "python3"
    },
    "language_info": {
      "codemirror_mode": {
        "name": "ipython",
        "version": 3
      },
      "file_extension": ".py",
      "mimetype": "text/x-python",
      "name": "python",
      "nbconvert_exporter": "python",
      "pygments_lexer": "ipython3",
      "version": "3.11.3"
    },
    "colab": {
      "provenance": []
    }
  },
  "nbformat": 4,
  "nbformat_minor": 5
}