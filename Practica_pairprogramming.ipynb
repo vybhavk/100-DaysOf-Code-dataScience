{
  "nbformat": 4,
  "nbformat_minor": 0,
  "metadata": {
    "colab": {
      "provenance": [],
      "authorship_tag": "ABX9TyMD21lgRPXavkJKxr0vM8BN",
      "include_colab_link": true
    },
    "kernelspec": {
      "name": "python3",
      "display_name": "Python 3"
    },
    "language_info": {
      "name": "python"
    }
  },
  "cells": [
    {
      "cell_type": "markdown",
      "metadata": {
        "id": "view-in-github",
        "colab_type": "text"
      },
      "source": [
        "<a href=\"https://colab.research.google.com/github/vybhavk/100-DaysOf-Code-dataScience/blob/master/Practica_pairprogramming.ipynb\" target=\"_parent\"><img src=\"https://colab.research.google.com/assets/colab-badge.svg\" alt=\"Open In Colab\"/></a>"
      ]
    },
    {
      "cell_type": "markdown",
      "source": [
        "Project 1: Average Order Value Analysis Description\n",
        "Analyze the average order value (AOV) of a dataset containing order information from various shops. Identify outliers and suggest a better metric for evaluating AOV.\n",
        "Instructions\n",
        "* Load the dataset containing order information.\n",
        "* Calculate the AOV.\n",
        "* Identify and remove outliers using the Z-score method.\n",
        "* Recalculate the AOV after removing outliers.\n",
        "* Suggest a better metric (e.g., Median Order Value) and calculate it.\n",
        "\n",
        "\n"
      ],
      "metadata": {
        "id": "z4dZWs6iL-ES"
      }
    },
    {
      "cell_type": "code",
      "execution_count": null,
      "metadata": {
        "id": "wf0I4JFwKmYt"
      },
      "outputs": [],
      "source": [
        "import pandas as pd\n",
        "import numpy as np\n",
        "import matplotlib.pyplot as plt\n",
        "from scipy import stats"
      ]
    },
    {
      "cell_type": "code",
      "source": [
        "class AverageOrderValue:\n",
        "  def __init__(self):\n",
        "    self.df = pd.read_csv(\"orders.csv\")\n",
        "\n",
        "  def calculate_aov(self):\n",
        "    self.aov = self.df['order_amount'].mead()\n",
        "    print(f\"Initial AOV {self.aov}\")\n",
        "\n",
        "  def calculate_zscores(self):\n",
        "    self.df['z_score'] = np.abs(stats.zscore(self.df['order_amount']))\n",
        "\n",
        "  def remove_outliers(self):\n",
        "    self.df[df['z_score']>3]"
      ],
      "metadata": {
        "id": "JqgRg7KSMbo2"
      },
      "execution_count": null,
      "outputs": []
    },
    {
      "cell_type": "code",
      "source": [],
      "metadata": {
        "id": "xYIeAEh4NPxB"
      },
      "execution_count": null,
      "outputs": []
    },
    {
      "cell_type": "markdown",
      "source": [
        "UnitTests\n",
        "\n",
        "testfixture - represents preparation needed to perform one or more tests\n",
        "\n",
        "testcase - individual unit of tests\n",
        "\n",
        "testsuite - collection of test cases, suites or both\n",
        "\n",
        "test runner - orchestrates of execution of tests"
      ],
      "metadata": {
        "id": "qQLI7u00rGRp"
      }
    },
    {
      "cell_type": "code",
      "source": [
        "# test upper\n",
        "# test isupper\n",
        "# test split\n",
        "\n",
        "import unittest\n",
        "\n",
        "class TestStringMethods(unittest.TestCase):\n",
        "\n",
        "  def\n"
      ],
      "metadata": {
        "id": "aOEkLWQxrdyE"
      },
      "execution_count": null,
      "outputs": []
    },
    {
      "cell_type": "code",
      "source": [
        "import sys\n",
        "import pytest\n",
        "\n",
        "\n",
        "def f():\n",
        "  return 4\n",
        "def test_f():\n",
        "  assert f() == 4\n"
      ],
      "metadata": {
        "id": "hLez_PfusAxj"
      },
      "execution_count": 4,
      "outputs": []
    },
    {
      "cell_type": "code",
      "source": [
        "!python -m pytest -q py_tests.py"
      ],
      "metadata": {
        "colab": {
          "base_uri": "https://localhost:8080/"
        },
        "id": "MzMceL8ZtGsb",
        "outputId": "7cd3dec9-2ccf-48d1-84c2-0415f8491ff8"
      },
      "execution_count": 16,
      "outputs": [
        {
          "output_type": "stream",
          "name": "stdout",
          "text": [
            "\u001b[32m.\u001b[0m\u001b[32m.\u001b[0m\u001b[32m.\u001b[0m\u001b[32m.\u001b[0m\u001b[32m                                                                                         [100%]\u001b[0m\n",
            "\u001b[32m\u001b[32m\u001b[1m4 passed\u001b[0m\u001b[32m in 0.01s\u001b[0m\u001b[0m\n"
          ]
        }
      ]
    },
    {
      "cell_type": "code",
      "source": [],
      "metadata": {
        "id": "lrovlfHCtjHC"
      },
      "execution_count": 15,
      "outputs": []
    }
  ]
}