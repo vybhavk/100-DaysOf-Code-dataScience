{
  "cells": [
    {
      "cell_type": "markdown",
      "id": "93ac7a94",
      "metadata": {
        "id": "93ac7a94"
      },
      "source": [
        "# -----------Python Dictionaries------------\n",
        "Dictionaries are used to store data values in key:value pairs.\n",
        "A dictionary is a collection which is ordered*, changeable and do not allow duplicates.\n",
        "Dictionaries are written with curly brackets, and have keys and values:\n"
      ]
    },
    {
      "cell_type": "code",
      "source": [
        "sample = {\n",
        "    \"Type\":\"automobile\",\n",
        "    \"model\":\"ford\",\n",
        "    \"year\":1991,\n",
        "    \"colors\":[\"blue\",\"red\",\"grey\"]\n",
        "}\n",
        "print(sample)\n",
        "print(len(sample))\n",
        "print(type(sample))"
      ],
      "metadata": {
        "id": "_MxxqASRbZAV",
        "outputId": "318cd224-b0a8-4ede-fc11-4c297455370a",
        "colab": {
          "base_uri": "https://localhost:8080/"
        }
      },
      "id": "_MxxqASRbZAV",
      "execution_count": 1,
      "outputs": [
        {
          "output_type": "stream",
          "name": "stdout",
          "text": [
            "{'Type': 'automobile', 'model': 'ford', 'year': 1991, 'colors': ['blue', 'red', 'grey']}\n",
            "4\n",
            "<class 'dict'>\n"
          ]
        }
      ]
    },
    {
      "cell_type": "markdown",
      "id": "26c30efc",
      "metadata": {
        "id": "26c30efc"
      },
      "source": [
        "# --------Access Dictionary Items----------\n",
        "You can access the items of a dictionary by referring to its key name, inside square brackets:"
      ]
    },
    {
      "cell_type": "code",
      "source": [
        "print(\n",
        "    sample.get(\"type\"),\n",
        "    sample.keys(),\n",
        "    sample.values(),\n",
        "    sample.items()\n",
        "\n",
        "\n",
        "\n",
        ")"
      ],
      "metadata": {
        "id": "aL8kJ78Db0L6",
        "outputId": "ae105a2c-4a24-4d19-ca21-947ab190f177",
        "colab": {
          "base_uri": "https://localhost:8080/"
        }
      },
      "id": "aL8kJ78Db0L6",
      "execution_count": 2,
      "outputs": [
        {
          "output_type": "stream",
          "name": "stdout",
          "text": [
            "None dict_keys(['Type', 'model', 'year', 'colors']) dict_values(['automobile', 'ford', 1991, ['blue', 'red', 'grey']]) dict_items([('Type', 'automobile'), ('model', 'ford'), ('year', 1991), ('colors', ['blue', 'red', 'grey'])])\n"
          ]
        }
      ]
    },
    {
      "cell_type": "markdown",
      "id": "7b4342df",
      "metadata": {
        "id": "7b4342df"
      },
      "source": [
        "# ----------Change Dictionary Items-----------\n",
        "You can change the value of a specific item by referring to its key name:\n"
      ]
    },
    {
      "cell_type": "code",
      "execution_count": 3,
      "id": "ce633a06",
      "metadata": {
        "id": "ce633a06"
      },
      "outputs": [],
      "source": [
        "dictt = {\n",
        "  \"brand\": \"Ford\",\n",
        "  \"model\": \"Mustang\",\n",
        "  \"year\": 1964\n",
        "}\n",
        "dictt[\"year\"] = 2018"
      ]
    },
    {
      "cell_type": "code",
      "execution_count": null,
      "id": "5fd5f790",
      "metadata": {
        "id": "5fd5f790",
        "outputId": "9ffd06f8-a078-4611-a58a-3b6c865a2e53"
      },
      "outputs": [
        {
          "name": "stdout",
          "output_type": "stream",
          "text": [
            "{'brand': 'Ford', 'model': 'Mustang', 'year': 2018}\n"
          ]
        }
      ],
      "source": [
        "print(dictt)"
      ]
    },
    {
      "cell_type": "markdown",
      "id": "3bd2f5a6",
      "metadata": {
        "id": "3bd2f5a6"
      },
      "source": [
        "# --------Adding Items----------\n",
        "Adding an item to the dictionary is done by using a new index key and assigning a value to it"
      ]
    },
    {
      "cell_type": "code",
      "execution_count": 4,
      "id": "a8cc7778",
      "metadata": {
        "id": "a8cc7778",
        "outputId": "f4838486-2858-4104-b5ef-e1fb4d524eba",
        "colab": {
          "base_uri": "https://localhost:8080/"
        }
      },
      "outputs": [
        {
          "output_type": "stream",
          "name": "stdout",
          "text": [
            "{'brand': 'Ford', 'model': 'Mustang', 'year': 1964, 'color': 'red'}\n"
          ]
        }
      ],
      "source": [
        "dictt = {\n",
        "  \"brand\": \"Ford\",\n",
        "  \"model\": \"Mustang\",\n",
        "  \"year\": 1964\n",
        "}\n",
        "dictt[\"color\"] = \"red\"\n",
        "print(dictt)"
      ]
    },
    {
      "cell_type": "code",
      "execution_count": 5,
      "id": "e0b8b0c8",
      "metadata": {
        "id": "e0b8b0c8",
        "outputId": "84fd0dd6-0a46-483a-9ef2-265b81104377",
        "colab": {
          "base_uri": "https://localhost:8080/"
        }
      },
      "outputs": [
        {
          "output_type": "stream",
          "name": "stdout",
          "text": [
            "{'brand': 'Ford', 'model': 'Mustang', 'year': 1964, 'color': 'red'}\n"
          ]
        }
      ],
      "source": [
        "dictt = {\n",
        "  \"brand\": \"Ford\",\n",
        "  \"model\": \"Mustang\",\n",
        "  \"year\": 1964\n",
        "}\n",
        "dictt.update({\"color\": \"red\"})\n",
        "print(dictt)"
      ]
    },
    {
      "cell_type": "markdown",
      "id": "0edaaf37",
      "metadata": {
        "id": "0edaaf37"
      },
      "source": [
        "# ---------Remove Dictionary Items----------\n",
        "The pop() method removes the item with the specified key name:\n",
        "The popitem() method removes the last inserted item (in versions before 3.7, a random item is removed instead):\n",
        "The del keyword removes the item with the specified key name:\n",
        "The del keyword can also delete the dictionary completely:\n",
        "The clear() method empties the dictionary:"
      ]
    },
    {
      "cell_type": "code",
      "execution_count": 6,
      "id": "6c35908b",
      "metadata": {
        "id": "6c35908b",
        "outputId": "fee4a984-08e1-4ca8-e2a2-6abe0809df99",
        "colab": {
          "base_uri": "https://localhost:8080/"
        }
      },
      "outputs": [
        {
          "output_type": "stream",
          "name": "stdout",
          "text": [
            "{'brand': 'Ford', 'year': 1964}\n"
          ]
        }
      ],
      "source": [
        "dictt = {\n",
        "  \"brand\": \"Ford\",\n",
        "  \"model\": \"Mustang\",\n",
        "  \"year\": 1964\n",
        "}\n",
        "dictt.pop(\"model\")\n",
        "print(dictt)"
      ]
    },
    {
      "cell_type": "code",
      "execution_count": 8,
      "id": "658605fc",
      "metadata": {
        "id": "658605fc",
        "outputId": "164098c3-09ac-47c7-d134-1769d1b0c3b3",
        "colab": {
          "base_uri": "https://localhost:8080/"
        }
      },
      "outputs": [
        {
          "output_type": "stream",
          "name": "stdout",
          "text": [
            "{'brand': 'Ford', 'model': 'Mustang'}\n",
            "{'brand': 'Ford'}\n",
            "{}\n"
          ]
        }
      ],
      "source": [
        "dictt = {\n",
        "  \"brand\": \"Ford\",\n",
        "  \"model\": \"Mustang\",\n",
        "  \"year\": 1964\n",
        "}\n",
        "dictt.popitem()\n",
        "print(dictt)\n",
        "dictt.popitem()\n",
        "print(dictt)\n",
        "dictt.popitem()\n",
        "print(dictt)"
      ]
    },
    {
      "cell_type": "code",
      "execution_count": 9,
      "id": "65e03d36",
      "metadata": {
        "id": "65e03d36",
        "outputId": "5fb2985a-b42b-4f84-9228-9fbfdc1dc59d",
        "colab": {
          "base_uri": "https://localhost:8080/"
        }
      },
      "outputs": [
        {
          "output_type": "stream",
          "name": "stdout",
          "text": [
            "{'brand': 'Ford', 'year': 1964}\n"
          ]
        }
      ],
      "source": [
        "dictt = {\n",
        "  \"brand\": \"Ford\",\n",
        "  \"model\": \"Mustang\",\n",
        "  \"year\": 1964\n",
        "}\n",
        "del dictt[\"model\"]\n",
        "print(dictt)"
      ]
    },
    {
      "cell_type": "code",
      "execution_count": 10,
      "id": "56ffb489",
      "metadata": {
        "id": "56ffb489",
        "outputId": "baf5c91c-78d4-4735-b2e8-69451dc6f961",
        "colab": {
          "base_uri": "https://localhost:8080/"
        }
      },
      "outputs": [
        {
          "output_type": "stream",
          "name": "stdout",
          "text": [
            "{}\n"
          ]
        }
      ],
      "source": [
        "dictt = {\n",
        "  \"brand\": \"Ford\",\n",
        "  \"model\": \"Mustang\",\n",
        "  \"year\": 1964\n",
        "}\n",
        "dictt.clear()\n",
        "print(dictt)"
      ]
    },
    {
      "cell_type": "code",
      "execution_count": null,
      "id": "e8c6f972",
      "metadata": {
        "id": "e8c6f972"
      },
      "outputs": [],
      "source": []
    }
  ],
  "metadata": {
    "kernelspec": {
      "display_name": "Python 3 (ipykernel)",
      "language": "python",
      "name": "python3"
    },
    "language_info": {
      "codemirror_mode": {
        "name": "ipython",
        "version": 3
      },
      "file_extension": ".py",
      "mimetype": "text/x-python",
      "name": "python",
      "nbconvert_exporter": "python",
      "pygments_lexer": "ipython3",
      "version": "3.11.3"
    },
    "colab": {
      "provenance": []
    }
  },
  "nbformat": 4,
  "nbformat_minor": 5
}