{
  "cells": [
    {
      "cell_type": "markdown",
      "id": "8297fde3",
      "metadata": {
        "id": "8297fde3"
      },
      "source": [
        "# Python Lists\n",
        "List items are ordered, changeable, and allow duplicate values.\n",
        "Tuples are written with Square brackets.\n"
      ]
    },
    {
      "cell_type": "code",
      "source": [
        "animals = ['dog','cat','lion','tiger']\n",
        "animals"
      ],
      "metadata": {
        "id": "o-VkI2pCdx1S",
        "outputId": "6bd88b1a-7633-49ff-95a8-7172fd342212",
        "colab": {
          "base_uri": "https://localhost:8080/"
        }
      },
      "id": "o-VkI2pCdx1S",
      "execution_count": 3,
      "outputs": [
        {
          "output_type": "execute_result",
          "data": {
            "text/plain": [
              "['dog', 'cat', 'lion', 'tiger']"
            ]
          },
          "metadata": {},
          "execution_count": 3
        }
      ]
    },
    {
      "cell_type": "code",
      "execution_count": 4,
      "id": "bdaa51e4",
      "metadata": {
        "id": "bdaa51e4",
        "outputId": "1b15e147-2315-4da3-bd3f-78d3a52dbb62",
        "colab": {
          "base_uri": "https://localhost:8080/"
        }
      },
      "outputs": [
        {
          "output_type": "stream",
          "name": "stdout",
          "text": [
            "4\n",
            "<class 'list'>\n"
          ]
        }
      ],
      "source": [
        "print(len(animals))\n",
        "print(type(animals))"
      ]
    },
    {
      "cell_type": "code",
      "execution_count": 6,
      "id": "9cf629df",
      "metadata": {
        "id": "9cf629df",
        "outputId": "4da3c50a-cc99-4145-8286-6e6a991c6bb9",
        "colab": {
          "base_uri": "https://localhost:8080/"
        }
      },
      "outputs": [
        {
          "output_type": "stream",
          "name": "stdout",
          "text": [
            "dog tiger ['lion']\n"
          ]
        }
      ],
      "source": [
        "print(\n",
        "      animals[0],animals[-1],\n",
        "      animals[2:-1]\n",
        ")"
      ]
    },
    {
      "cell_type": "code",
      "execution_count": 10,
      "id": "b19a918b",
      "metadata": {
        "id": "b19a918b",
        "outputId": "1e50f40e-2302-4567-9d62-fab533df091f",
        "colab": {
          "base_uri": "https://localhost:8080/"
        }
      },
      "outputs": [
        {
          "output_type": "stream",
          "name": "stdout",
          "text": [
            "No, 'apple' is not in the animals list\n"
          ]
        }
      ],
      "source": [
        "if \"apple\" in animals:\n",
        "  print(\"Yes, 'apple' is in the animals list\")\n",
        "else:\n",
        "  print(\"No, 'apple' is not in the animals list\")\n"
      ]
    },
    {
      "cell_type": "markdown",
      "id": "d315ebcf",
      "metadata": {
        "id": "d315ebcf"
      },
      "source": [
        "# ------Add List Items-----\n",
        "append()\n",
        "\n",
        "insert()\n",
        "\n",
        "extend()"
      ]
    },
    {
      "cell_type": "code",
      "execution_count": 11,
      "id": "f2dfa086",
      "metadata": {
        "id": "f2dfa086",
        "outputId": "9917fae8-32f9-45e9-aba7-560f83077b47",
        "colab": {
          "base_uri": "https://localhost:8080/"
        }
      },
      "outputs": [
        {
          "output_type": "stream",
          "name": "stdout",
          "text": [
            "['dog', 'cat', 'mouse', 'lion', 'tiger']\n"
          ]
        }
      ],
      "source": [
        "#Insert \"watermelon\" as the third item:\n",
        "animals.insert(2, \"mouse\")\n",
        "print(animals)"
      ]
    },
    {
      "cell_type": "code",
      "execution_count": 12,
      "id": "fe7a8485",
      "metadata": {
        "id": "fe7a8485",
        "outputId": "91206ff4-c2d4-4f03-80ef-3952a9b5663f",
        "colab": {
          "base_uri": "https://localhost:8080/"
        }
      },
      "outputs": [
        {
          "output_type": "stream",
          "name": "stdout",
          "text": [
            "['dog', 'cat', 'mouse', 'lion', 'tiger', 'owl']\n"
          ]
        }
      ],
      "source": [
        "#Using the append() method to append an item:\n",
        "animals.append(\"owl\")\n",
        "print(animals)\n"
      ]
    },
    {
      "cell_type": "code",
      "execution_count": 13,
      "id": "83fe72d0",
      "metadata": {
        "id": "83fe72d0",
        "outputId": "e9323787-2c1d-4cbb-c768-3db5b234918e",
        "colab": {
          "base_uri": "https://localhost:8080/"
        }
      },
      "outputs": [
        {
          "output_type": "stream",
          "name": "stdout",
          "text": [
            "['apple', 'banana', 'cherry', 'mango', 'pineapple', 'papaya']\n"
          ]
        }
      ],
      "source": [
        "#Add the elements of tropical to thislist:\n",
        "fruits = [\"apple\", \"banana\", \"cherry\"]\n",
        "fruits2 = [\"mango\", \"pineapple\", \"papaya\"]\n",
        "fruits.extend(fruits2)\n",
        "print(fruits)"
      ]
    },
    {
      "cell_type": "code",
      "execution_count": null,
      "id": "25d7c38e",
      "metadata": {
        "id": "25d7c38e",
        "outputId": "a1bd53ed-1346-41f7-bba8-931cb758a348"
      },
      "outputs": [
        {
          "name": "stdout",
          "output_type": "stream",
          "text": [
            "['apple', 'banana', 'cherry', 'kiwi', 'orange']\n"
          ]
        }
      ],
      "source": [
        "#Add elements of a tuple to a list:\n",
        "fruits = [\"apple\", \"banana\", \"cherry\"]\n",
        "fruits2 = (\"kiwi\", \"orange\")\n",
        "fruits.extend(fruits2)\n",
        "print(fruits)"
      ]
    },
    {
      "cell_type": "markdown",
      "id": "f5fababe",
      "metadata": {
        "id": "f5fababe"
      },
      "source": [
        "# ------Remove List Items--------\n",
        "remove(): it removes the specified item.\n",
        "\n",
        "pop():    it removes the specified index.\n",
        "\n",
        "del:      this keyword also removes the specified index:(can also delete the list completely.)\n",
        "\n",
        "clear():  this method empties the list (The list still remains, but it has no content)"
      ]
    },
    {
      "cell_type": "code",
      "execution_count": 15,
      "id": "09337ed4",
      "metadata": {
        "id": "09337ed4",
        "outputId": "378bb2f8-0d84-426d-ba47-4de28658fa94",
        "colab": {
          "base_uri": "https://localhost:8080/"
        }
      },
      "outputs": [
        {
          "output_type": "stream",
          "name": "stdout",
          "text": [
            "['apple', 'banana', 'cherry', 'banana']\n"
          ]
        }
      ],
      "source": [
        "#Remove the first occurance of \"banana\":\n",
        "#Remove Specified Item\n",
        "fruits = [\"apple\", \"banana\", \"cherry\", \"banana\", \"kiwi\"]\n",
        "fruits.remove('kiwi')\n",
        "print(fruits)"
      ]
    },
    {
      "cell_type": "code",
      "execution_count": 16,
      "id": "57487639",
      "metadata": {
        "id": "57487639",
        "outputId": "504255eb-a243-4866-de9b-fe72348ee73a",
        "colab": {
          "base_uri": "https://localhost:8080/"
        }
      },
      "outputs": [
        {
          "output_type": "stream",
          "name": "stdout",
          "text": [
            "['apple', 'cherry']\n"
          ]
        }
      ],
      "source": [
        "#Remove Specified Index\n",
        "#The pop() method removes the specified index.\n",
        "\n",
        "fruits = [\"apple\", \"banana\", \"cherry\"]\n",
        "fruits.pop(1)\n",
        "print(fruits)"
      ]
    },
    {
      "cell_type": "code",
      "execution_count": 17,
      "id": "ed219792",
      "metadata": {
        "id": "ed219792"
      },
      "outputs": [],
      "source": [
        "#The del keyword also removes the specified index:\n",
        "#The del keyword can also delete the list completely.\n",
        "\n",
        "fruits = [\"apple\", \"banana\", \"cherry\"]\n",
        "del fruits[0]"
      ]
    },
    {
      "cell_type": "code",
      "execution_count": 18,
      "id": "847391c3",
      "metadata": {
        "id": "847391c3",
        "outputId": "18e631e3-4f45-4653-df07-fede3311a0af",
        "colab": {
          "base_uri": "https://localhost:8080/"
        }
      },
      "outputs": [
        {
          "output_type": "stream",
          "name": "stdout",
          "text": [
            "['banana', 'cherry']\n"
          ]
        }
      ],
      "source": [
        "print(fruits)"
      ]
    },
    {
      "cell_type": "code",
      "execution_count": 19,
      "id": "876b3021",
      "metadata": {
        "id": "876b3021",
        "outputId": "ed772513-926a-4190-d230-d3d0288ce59f",
        "colab": {
          "base_uri": "https://localhost:8080/"
        }
      },
      "outputs": [
        {
          "output_type": "stream",
          "name": "stdout",
          "text": [
            "[]\n"
          ]
        }
      ],
      "source": [
        "#The clear() method empties the list.\n",
        "fruits = [\"apple\", \"banana\", \"cherry\"]\n",
        "fruits.clear()\n",
        "print(fruits)\n"
      ]
    },
    {
      "cell_type": "markdown",
      "id": "eefe5632",
      "metadata": {
        "id": "eefe5632"
      },
      "source": [
        "# ------Sort Lists------\n",
        "sort():\n",
        "To sort descending, use the keyword argument reverse = True:\n",
        "\n",
        "reverse(): this method reverses the current sorting order of the elements.\n",
        "\n",
        "both Sort(), Reverse() are both inplace"
      ]
    },
    {
      "cell_type": "code",
      "execution_count": 20,
      "id": "b8307e7c",
      "metadata": {
        "id": "b8307e7c",
        "outputId": "9bd23ff2-914d-4efb-dde7-ad6dcfb1cf44",
        "colab": {
          "base_uri": "https://localhost:8080/"
        }
      },
      "outputs": [
        {
          "output_type": "stream",
          "name": "stdout",
          "text": [
            "['banana', 'kiwi', 'mango', 'orange', 'pineapple']\n"
          ]
        }
      ],
      "source": [
        "fruits = [\"orange\", \"mango\", \"kiwi\", \"pineapple\", \"banana\"]\n",
        "fruits.sort()\n",
        "print(fruits)"
      ]
    },
    {
      "cell_type": "code",
      "execution_count": 21,
      "id": "2a298226",
      "metadata": {
        "id": "2a298226",
        "outputId": "08858136-b7f0-4743-b80f-228b8c13d3e2",
        "colab": {
          "base_uri": "https://localhost:8080/"
        }
      },
      "outputs": [
        {
          "output_type": "stream",
          "name": "stdout",
          "text": [
            "['pineapple', 'orange', 'mango', 'kiwi', 'banana']\n"
          ]
        }
      ],
      "source": [
        "fruits = [\"orange\", \"mango\", \"kiwi\", \"pineapple\", \"banana\"]\n",
        "fruits.sort(reverse=True)\n",
        "print(fruits)"
      ]
    },
    {
      "cell_type": "code",
      "execution_count": 22,
      "id": "9667d9a2",
      "metadata": {
        "id": "9667d9a2",
        "outputId": "22b26895-5d81-44dc-a1c0-599899133db1",
        "colab": {
          "base_uri": "https://localhost:8080/"
        }
      },
      "outputs": [
        {
          "output_type": "stream",
          "name": "stdout",
          "text": [
            "['cherry', 'Kiwi', 'Orange', 'banana']\n"
          ]
        }
      ],
      "source": [
        "fruits = [\"banana\", \"Orange\", \"Kiwi\", \"cherry\"]\n",
        "fruits.reverse()\n",
        "print(fruits)"
      ]
    },
    {
      "cell_type": "markdown",
      "source": [
        "Reversed, sorted can be also used, which are not inplace"
      ],
      "metadata": {
        "id": "-SAtVAyqgfC0"
      },
      "id": "-SAtVAyqgfC0"
    },
    {
      "cell_type": "code",
      "source": [
        "print(list(reversed(fruits)), sorted(fruits))"
      ],
      "metadata": {
        "id": "bt0J82begW0K",
        "outputId": "06407b7b-f963-49f2-8a69-0042ea85b6dd",
        "colab": {
          "base_uri": "https://localhost:8080/"
        }
      },
      "id": "bt0J82begW0K",
      "execution_count": 25,
      "outputs": [
        {
          "output_type": "stream",
          "name": "stdout",
          "text": [
            "['banana', 'Orange', 'Kiwi', 'cherry'] ['Kiwi', 'Orange', 'banana', 'cherry']\n"
          ]
        }
      ]
    },
    {
      "cell_type": "code",
      "source": [
        "s, e = 0,len(fruits)-1\n",
        "\n",
        "while s<e:\n",
        "  fruits[s],fruits[e] = fruits[e],fruits[s]\n",
        "  s+=1\n",
        "  e-=1\n",
        "print(fruits)"
      ],
      "metadata": {
        "id": "8diNXdXQhA12",
        "outputId": "8fe3f365-15bc-4a03-bb26-ac12daa700cf",
        "colab": {
          "base_uri": "https://localhost:8080/"
        }
      },
      "id": "8diNXdXQhA12",
      "execution_count": 26,
      "outputs": [
        {
          "output_type": "stream",
          "name": "stdout",
          "text": [
            "['banana', 'Orange', 'Kiwi', 'cherry']\n"
          ]
        }
      ]
    },
    {
      "cell_type": "markdown",
      "id": "0a5c65af",
      "metadata": {
        "id": "0a5c65af"
      },
      "source": [
        "# ---------Join Two Lists--------\n",
        "using the + operator.\n",
        "Append list2 into list1:\n",
        "Use the extend() method to add list2 at the end of list1:\n"
      ]
    },
    {
      "cell_type": "code",
      "execution_count": 27,
      "id": "bfb34d16",
      "metadata": {
        "id": "bfb34d16",
        "outputId": "d2338ab7-20a5-41e8-fc66-9ab6c376508f",
        "colab": {
          "base_uri": "https://localhost:8080/"
        }
      },
      "outputs": [
        {
          "output_type": "stream",
          "name": "stdout",
          "text": [
            "['a', 'b', 'c', 1, 2, 3]\n"
          ]
        }
      ],
      "source": [
        "list1 = [\"a\", \"b\", \"c\"]\n",
        "list2 = [1, 2, 3]\n",
        "\n",
        "list3 = list1 + list2\n",
        "print(list3)"
      ]
    },
    {
      "cell_type": "code",
      "execution_count": 28,
      "id": "ab4d80b8",
      "metadata": {
        "id": "ab4d80b8",
        "outputId": "faed3b43-53f6-40f8-9e0b-5f1fe1cdb07b",
        "colab": {
          "base_uri": "https://localhost:8080/"
        }
      },
      "outputs": [
        {
          "output_type": "stream",
          "name": "stdout",
          "text": [
            "['a', 'b', 'c', 1, 2, 3]\n"
          ]
        }
      ],
      "source": [
        "list1 = [\"a\", \"b\" , \"c\"]\n",
        "list2 = [1, 2, 3]\n",
        "\n",
        "for x in list2:\n",
        "  list1.append(x)\n",
        "\n",
        "print(list1)"
      ]
    },
    {
      "cell_type": "code",
      "execution_count": 29,
      "id": "ffc7617a",
      "metadata": {
        "id": "ffc7617a",
        "outputId": "280c69e8-4783-4a81-c261-da3a000504f8",
        "colab": {
          "base_uri": "https://localhost:8080/"
        }
      },
      "outputs": [
        {
          "output_type": "stream",
          "name": "stdout",
          "text": [
            "['a', 'b', 'c', 1, 2, 3]\n"
          ]
        }
      ],
      "source": [
        "list1 = [\"a\", \"b\" , \"c\"]\n",
        "list2 = [1, 2, 3]\n",
        "\n",
        "list1.extend(list2)\n",
        "print(list1)"
      ]
    },
    {
      "cell_type": "markdown",
      "id": "5fc519b5",
      "metadata": {
        "id": "5fc519b5"
      },
      "source": [
        "# ---------Copy Lists---------\n",
        "Make a copy of a list with the copy() method:\n",
        "built-in method list()."
      ]
    },
    {
      "cell_type": "code",
      "execution_count": 30,
      "id": "8309521d",
      "metadata": {
        "id": "8309521d",
        "outputId": "e50707bb-34b6-4392-f901-a8c3743efc98",
        "colab": {
          "base_uri": "https://localhost:8080/"
        }
      },
      "outputs": [
        {
          "output_type": "stream",
          "name": "stdout",
          "text": [
            "['apple', 'banana', 'cherry']\n"
          ]
        }
      ],
      "source": [
        "fruits = [\"apple\", \"banana\", \"cherry\"]\n",
        "Newlist = fruits.copy()\n",
        "print(Newlist)"
      ]
    },
    {
      "cell_type": "code",
      "execution_count": 31,
      "id": "41581f52",
      "metadata": {
        "id": "41581f52",
        "outputId": "517c1aef-b774-4ef6-f074-5bcd6982d22c",
        "colab": {
          "base_uri": "https://localhost:8080/"
        }
      },
      "outputs": [
        {
          "output_type": "stream",
          "name": "stdout",
          "text": [
            "['apple', 'banana', 'cherry']\n"
          ]
        }
      ],
      "source": [
        "fruits = [\"apple\", \"banana\", \"cherry\"]\n",
        "Newlist = list(fruits)\n",
        "print(Newlist)"
      ]
    },
    {
      "cell_type": "code",
      "execution_count": 35,
      "id": "3b420c42",
      "metadata": {
        "id": "3b420c42",
        "outputId": "f5d26774-2fa2-4054-85ea-cc70d1ef3d67",
        "colab": {
          "base_uri": "https://localhost:8080/"
        }
      },
      "outputs": [
        {
          "output_type": "stream",
          "name": "stdout",
          "text": [
            "['baseball', 'football', 'soccer']\n",
            "4\n",
            "[1, 2, 3, 4]\n",
            "[1, 2, 3, 4]\n",
            "[1, 'a', 2, 3]\n",
            "[1, 3, 2]\n",
            "3\n",
            "[1, 2]\n",
            "[]\n",
            "1\n",
            "2\n",
            "[1, 2, 3]\n",
            "reverse [1, 2, 3]\n",
            "[3, 2, 1]\n",
            "[1, 2, 3]\n",
            "[1, 2, 3]\n",
            "[3, 2, 1]\n",
            "1\n",
            "3\n",
            "6\n"
          ]
        }
      ],
      "source": [
        "\n",
        "# 1. list()\n",
        "sports = list(('baseball', 'football', 'soccer'))\n",
        "print(sports)  # Output: ['baseball', 'football', 'soccer']\n",
        "\n",
        "# 2. len()\n",
        "my_list = [1, 2, 3, 4]\n",
        "print(len(my_list))  # Output: 4\n",
        "\n",
        "# 3. append()\n",
        "my_list = [1, 2, 3]\n",
        "my_list.append(4)\n",
        "print(my_list)  # Output: [1, 2, 3, 4]\n",
        "\n",
        "# 4. extend()\n",
        "my_list = [1, 2]\n",
        "my_list.extend([3, 4])\n",
        "print(my_list)  # Output: [1, 2, 3, 4]\n",
        "\n",
        "# 5. insert()\n",
        "my_list = [1, 2, 3]\n",
        "my_list.insert(1, 'a')\n",
        "print(my_list)  # Output: [1, 'a', 2, 3]\n",
        "\n",
        "# 6. remove()\n",
        "my_list = [1, 2, 3, 2]\n",
        "my_list.remove(2)\n",
        "print(my_list)  # Output: [1, 3, 2]\n",
        "\n",
        "# 7. pop()\n",
        "my_list = [1, 2, 3]\n",
        "popped_value = my_list.pop()\n",
        "print(popped_value)  # Output: 3\n",
        "print(my_list)       # Output: [1, 2]\n",
        "\n",
        "# 8. clear()\n",
        "my_list = [1, 2, 3]\n",
        "my_list.clear()\n",
        "print(my_list)  # Output: []\n",
        "\n",
        "# 9. index()\n",
        "my_list = ['a', 'b', 'c']\n",
        "print(my_list.index('b'))  # Output: 1\n",
        "\n",
        "# 10. count()\n",
        "my_list = [1, 2, 2, 3]\n",
        "print(my_list.count(2))  # Output: 2\n",
        "\n",
        "# 11. sort()\n",
        "my_list = [3, 1, 2]\n",
        "my_list.sort()\n",
        "print(my_list)  # Output: [1, 2, 3]\n",
        "\n",
        "my_list.sort(reverse=False)\n",
        "print('reverse',my_list)\n",
        "\n",
        "# 12. reverse()\n",
        "my_list = [1, 2, 3]\n",
        "my_list.reverse()\n",
        "print(my_list)  # Output: [3, 2, 1]\n",
        "\n",
        "# 13. copy()\n",
        "my_list = [1, 2, 3]\n",
        "new_list = my_list.copy()\n",
        "print(new_list)  # Output: [1, 2, 3]\n",
        "\n",
        "# 14. sorted()\n",
        "my_list = [3, 1, 2]\n",
        "sorted_list = sorted(my_list)\n",
        "print(sorted_list)  # Output: [1, 2, 3]\n",
        "\n",
        "# 15. reversed()\n",
        "my_list = [1, 2, 3]\n",
        "reversed_list = list(reversed(my_list))\n",
        "print(reversed_list)  # Output: [3, 2, 1]\n",
        "\n",
        "# 16. min()\n",
        "my_list = [3, 1, 2]\n",
        "print(min(my_list))  # Output: 1\n",
        "\n",
        "# 17. max()\n",
        "my_list = [3, 1, 2]\n",
        "print(max(my_list))  # Output: 3\n",
        "\n",
        "# 18. sum()\n",
        "my_list = [1, 2, 3]\n",
        "print(sum(my_list))  # Output: 6"
      ]
    },
    {
      "cell_type": "code",
      "source": [],
      "metadata": {
        "id": "HLbBxi6-h_ku"
      },
      "id": "HLbBxi6-h_ku",
      "execution_count": null,
      "outputs": []
    }
  ],
  "metadata": {
    "kernelspec": {
      "display_name": "Python 3 (ipykernel)",
      "language": "python",
      "name": "python3"
    },
    "language_info": {
      "codemirror_mode": {
        "name": "ipython",
        "version": 3
      },
      "file_extension": ".py",
      "mimetype": "text/x-python",
      "name": "python",
      "nbconvert_exporter": "python",
      "pygments_lexer": "ipython3",
      "version": "3.11.3"
    },
    "colab": {
      "provenance": []
    }
  },
  "nbformat": 4,
  "nbformat_minor": 5
}