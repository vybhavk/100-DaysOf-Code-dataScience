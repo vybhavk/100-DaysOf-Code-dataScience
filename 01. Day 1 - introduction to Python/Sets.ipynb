{
  "cells": [
    {
      "cell_type": "markdown",
      "id": "d66abaed",
      "metadata": {
        "id": "d66abaed"
      },
      "source": [
        "# ---------Python Sets----------\n",
        "A set is a collection which is unordered, unchangeable*, and Duplicates Not Allowed.\n",
        "Sets are used to store multiple items in a single variable.\n",
        "* Note: Set items are unchangeable, but you can remove items and add new items.\n",
        "Sets are written with curly brackets.\n"
      ]
    },
    {
      "cell_type": "code",
      "execution_count": 1,
      "id": "fb261ecc",
      "metadata": {
        "id": "fb261ecc",
        "outputId": "a7477e89-57a4-4aae-9532-cc309d664f6a",
        "colab": {
          "base_uri": "https://localhost:8080/"
        }
      },
      "outputs": [
        {
          "output_type": "stream",
          "name": "stdout",
          "text": [
            "{'apple', 'banana', 'cherry'}\n",
            "3\n",
            "<class 'set'>\n"
          ]
        }
      ],
      "source": [
        "fruits = {\"apple\", \"banana\", \"cherry\", \"apple\"}\n",
        "\n",
        "print(fruits)\n",
        "print(len(fruits))\n",
        "print(type(fruits))"
      ]
    },
    {
      "cell_type": "code",
      "execution_count": 2,
      "id": "e9a91847",
      "metadata": {
        "id": "e9a91847",
        "outputId": "46c1969d-8101-405e-ad35-7875d779891e",
        "colab": {
          "base_uri": "https://localhost:8080/"
        }
      },
      "outputs": [
        {
          "output_type": "stream",
          "name": "stdout",
          "text": [
            "{True, 2, 'banana', 'apple', 'cherry'}\n"
          ]
        }
      ],
      "source": [
        "#Note: The values True and 1 are considered the same value in sets, and are treated as duplicates:\n",
        "fruits = {\"apple\", \"banana\", \"cherry\", True, 1, 2}\n",
        "print(fruits)"
      ]
    },
    {
      "cell_type": "code",
      "execution_count": 3,
      "id": "ae13b0d5",
      "metadata": {
        "id": "ae13b0d5",
        "outputId": "fee0f885-ba3e-421d-878f-ab228ba03b22",
        "colab": {
          "base_uri": "https://localhost:8080/"
        }
      },
      "outputs": [
        {
          "output_type": "stream",
          "name": "stdout",
          "text": [
            "{'apple', 'banana', 'cherry'}\n"
          ]
        }
      ],
      "source": [
        "#Using the set() constructor to make a set:\n",
        "fruits = set((\"apple\", \"banana\", \"cherry\")) # note the double round-brackets\n",
        "print(fruits)"
      ]
    },
    {
      "cell_type": "markdown",
      "id": "5cb7db91",
      "metadata": {
        "id": "5cb7db91"
      },
      "source": [
        "# -------Access Set Items----------\n",
        "You cannot access items in a set by referring to an index or a key.\n",
        "\n",
        "But you can loop through the set items using a for loop, or ask if a specified value is present in a set, by using the in keyword."
      ]
    },
    {
      "cell_type": "code",
      "execution_count": 4,
      "id": "71eb3585",
      "metadata": {
        "id": "71eb3585",
        "outputId": "3827fce2-e1de-4c14-83a9-d99ee2c8b9fd",
        "colab": {
          "base_uri": "https://localhost:8080/"
        }
      },
      "outputs": [
        {
          "output_type": "stream",
          "name": "stdout",
          "text": [
            "True\n"
          ]
        }
      ],
      "source": [
        "fruits = {\"apple\", \"banana\", \"cherry\"}\n",
        "print(\"banana\" in fruits)"
      ]
    },
    {
      "cell_type": "markdown",
      "id": "7d5398f1",
      "metadata": {
        "id": "7d5398f1"
      },
      "source": [
        "# -----Add Set Items-----------\n",
        "Once a set is created, you cannot change its items, but you can add new items.\n",
        "\n",
        "#Add an item to a set, using the add() method:\n",
        "#To add items from another set into the current set, use the update() method."
      ]
    },
    {
      "cell_type": "code",
      "execution_count": 5,
      "id": "b235b595",
      "metadata": {
        "id": "b235b595",
        "outputId": "07969945-49ec-4e88-d04d-3ae77710b03c",
        "colab": {
          "base_uri": "https://localhost:8080/"
        }
      },
      "outputs": [
        {
          "output_type": "stream",
          "name": "stdout",
          "text": [
            "{'apple', 'banana', 'cherry', 'orange'}\n"
          ]
        }
      ],
      "source": [
        "fruits = {\"apple\", \"banana\", \"cherry\"}\n",
        "fruits.add(\"orange\")\n",
        "print(fruits)"
      ]
    },
    {
      "cell_type": "code",
      "execution_count": 6,
      "id": "4f9f60a7",
      "metadata": {
        "id": "4f9f60a7",
        "outputId": "61e67819-1abb-4982-bb17-d2e316141e96",
        "colab": {
          "base_uri": "https://localhost:8080/"
        }
      },
      "outputs": [
        {
          "output_type": "stream",
          "name": "stdout",
          "text": [
            "{'mango', 'pineapple', 'papaya', 'apple', 'banana', 'cherry'}\n"
          ]
        }
      ],
      "source": [
        "fruits = {\"apple\", \"banana\", \"cherry\"}\n",
        "fruits2 = {\"pineapple\", \"mango\", \"papaya\"}\n",
        "fruits.update(fruits2)\n",
        "print(fruits)"
      ]
    },
    {
      "cell_type": "markdown",
      "id": "857b5260",
      "metadata": {
        "id": "857b5260"
      },
      "source": [
        "# ---------Remove Set Items-----------\n",
        "Remove \"banana\" by using the remove() method:\n",
        "Remove \"banana\" by using the discard() method:\n",
        "Remove a random item by using the pop() method:\n",
        "The clear() method empties the set:\n",
        "The del keyword will delete the set completely:"
      ]
    },
    {
      "cell_type": "code",
      "execution_count": 7,
      "id": "02ec77b3",
      "metadata": {
        "id": "02ec77b3",
        "outputId": "1846a55a-6915-44da-cffe-78370ff8bf8a",
        "colab": {
          "base_uri": "https://localhost:8080/"
        }
      },
      "outputs": [
        {
          "output_type": "stream",
          "name": "stdout",
          "text": [
            "{'apple', 'cherry'}\n"
          ]
        }
      ],
      "source": [
        "fruits = {\"apple\", \"banana\", \"cherry\"}\n",
        "fruits.remove(\"banana\")\n",
        "print(fruits)"
      ]
    },
    {
      "cell_type": "code",
      "execution_count": 8,
      "id": "e2808d90",
      "metadata": {
        "id": "e2808d90",
        "outputId": "72b3582d-3a07-4145-df88-572fc1d8635f",
        "colab": {
          "base_uri": "https://localhost:8080/"
        }
      },
      "outputs": [
        {
          "output_type": "stream",
          "name": "stdout",
          "text": [
            "{'apple', 'cherry'}\n"
          ]
        }
      ],
      "source": [
        "fruits = {\"apple\", \"banana\", \"cherry\"}\n",
        "fruits.discard(\"banana\")\n",
        "print(fruits)"
      ]
    },
    {
      "cell_type": "code",
      "execution_count": 9,
      "id": "ab8ecde2",
      "metadata": {
        "id": "ab8ecde2",
        "outputId": "f8cdaeaa-7df4-46e6-c2d7-cddd483d638b",
        "colab": {
          "base_uri": "https://localhost:8080/"
        }
      },
      "outputs": [
        {
          "output_type": "stream",
          "name": "stdout",
          "text": [
            "apple\n",
            "{'banana', 'cherry'}\n"
          ]
        }
      ],
      "source": [
        "fruits = {\"apple\", \"banana\", \"cherry\"}\n",
        "x = fruits.pop()\n",
        "print(x)\n",
        "print(fruits)"
      ]
    },
    {
      "cell_type": "code",
      "execution_count": 10,
      "id": "0de0c3b4",
      "metadata": {
        "id": "0de0c3b4",
        "outputId": "135e52f0-9f09-4872-feab-7920ee681ede",
        "colab": {
          "base_uri": "https://localhost:8080/"
        }
      },
      "outputs": [
        {
          "output_type": "stream",
          "name": "stdout",
          "text": [
            "set()\n"
          ]
        }
      ],
      "source": [
        "fruits = {\"apple\", \"banana\", \"cherry\"}\n",
        "fruits.clear()\n",
        "print(fruits)"
      ]
    },
    {
      "cell_type": "code",
      "execution_count": 11,
      "id": "bb664ac3",
      "metadata": {
        "id": "bb664ac3"
      },
      "outputs": [],
      "source": [
        "fruits = {\"apple\", \"banana\", \"cherry\"}\n",
        "del fruits"
      ]
    },
    {
      "cell_type": "markdown",
      "id": "9c1881dd",
      "metadata": {
        "id": "9c1881dd"
      },
      "source": [
        "# --------Join Two Sets--------\n",
        "The union() method returns a new set with all items from both sets:\n",
        "The update() method inserts the items in set2 into set1:\n",
        "(Keep ONLY the Duplicates): The intersection_update() method will keep only the items that are present in both sets.\n",
        "(Keep All, But NOT the Duplicates):The symmetric_difference_update() method will keep only the elements that are NOT present in both sets.\n"
      ]
    },
    {
      "cell_type": "code",
      "execution_count": 12,
      "id": "c2805145",
      "metadata": {
        "id": "c2805145",
        "outputId": "7af13265-c8bf-4a15-d76c-59da47d9b22a",
        "colab": {
          "base_uri": "https://localhost:8080/"
        }
      },
      "outputs": [
        {
          "output_type": "stream",
          "name": "stdout",
          "text": [
            "{'b', 1, 'a', 2, 3, 'c'}\n"
          ]
        }
      ],
      "source": [
        "set1 = {\"a\", \"b\" , \"c\"}\n",
        "set2 = {1, 2, 3}\n",
        "set3 = set1.union(set2)\n",
        "print(set3)"
      ]
    },
    {
      "cell_type": "code",
      "execution_count": 13,
      "id": "1c0da92a",
      "metadata": {
        "id": "1c0da92a",
        "outputId": "0a16b1d6-70c5-44e7-bb2c-a0d0d3d709ff",
        "colab": {
          "base_uri": "https://localhost:8080/"
        }
      },
      "outputs": [
        {
          "output_type": "stream",
          "name": "stdout",
          "text": [
            "{'apple'}\n"
          ]
        }
      ],
      "source": [
        "x = {\"apple\", \"banana\", \"cherry\"}\n",
        "y = {\"google\", \"microsoft\", \"apple\"}\n",
        "x.intersection_update(y)\n",
        "print(x)"
      ]
    },
    {
      "cell_type": "code",
      "execution_count": 14,
      "id": "a0b400f6",
      "metadata": {
        "id": "a0b400f6",
        "outputId": "72fce25b-21a4-4237-cd50-220fc595144c",
        "colab": {
          "base_uri": "https://localhost:8080/"
        }
      },
      "outputs": [
        {
          "output_type": "stream",
          "name": "stdout",
          "text": [
            "{'microsoft', 'cherry', 'google', 'banana'}\n"
          ]
        }
      ],
      "source": [
        "x = {\"apple\", \"banana\", \"cherry\"}\n",
        "y = {\"google\", \"microsoft\", \"apple\"}\n",
        "x.symmetric_difference_update(y)\n",
        "print(x)"
      ]
    },
    {
      "cell_type": "code",
      "execution_count": 15,
      "id": "5ea9560d",
      "metadata": {
        "id": "5ea9560d",
        "outputId": "a2fc117f-c2f3-45e9-9d5a-f4db030f883d",
        "colab": {
          "base_uri": "https://localhost:8080/"
        }
      },
      "outputs": [
        {
          "output_type": "stream",
          "name": "stdout",
          "text": [
            "{'b', 1, 'a', 2, 3, 'c'}\n"
          ]
        }
      ],
      "source": [
        "set1 = {\"a\", \"b\" , \"c\"}\n",
        "set2 = {1, 2, 3}\n",
        "set1.update(set2)\n",
        "print(set1)"
      ]
    },
    {
      "cell_type": "markdown",
      "source": [
        "Python sets are a powerful built-in data type that allows for the storage of unordered collections of unique elements. They come equipped with various methods that facilitate mathematical operations and manipulation of the data. Below is a comprehensive list of Python set methods along with their descriptions and examples.\n",
        "\n",
        "## List of Python Set Methods\n",
        "\n",
        "| Method                        | Description                                                                 |\n",
        "|-------------------------------|-----------------------------------------------------------------------------|\n",
        "| `add(element)`                | Adds an element to the set.                                                |\n",
        "| `clear()`                     | Removes all elements from the set.                                         |\n",
        "| `copy()`                      | Returns a shallow copy of the set.                                        |\n",
        "| `difference(*other_sets)`     | Returns a set containing the difference between the set and others.        |\n",
        "| `difference_update(*other_sets)` | Removes elements found in the specified sets from the current set.    |\n",
        "| `discard(element)`            | Removes the specified element from the set if it exists.                  |\n",
        "| `intersection(*other_sets)`    | Returns a set that contains all elements that are in both sets.          |\n",
        "| `intersection_update(*other_sets)` | Updates the set to keep only elements found in both sets.            |\n",
        "| `isdisjoint(other_set)`       | Returns `True` if the set has no elements in common with another set.    |\n",
        "| `issubset(other_set)`         | Returns `True` if the set is a subset of another set.                    |\n",
        "| `issuperset(other_set)`       | Returns `True` if the set is a superset of another set.                  |\n",
        "| `pop()`                       | Removes and returns an arbitrary element from the set. Raises `KeyError` if the set is empty. |\n",
        "| `remove(element)`             | Removes the specified element from the set. Raises `KeyError` if it is not present. |\n",
        "| `symmetric_difference(other_set)` | Returns a set with elements in either the set or the other set but not in both. |\n",
        "| `symmetric_difference_update(other_set)` | Updates the set with the symmetric difference of itself and another. |\n",
        "| `union(*other_sets)`          | Returns a set containing all elements from the set and the specified sets. |\n",
        "| `update(*other_sets)`         | Updates the set with elements from the specified sets.                    |\n"
      ],
      "metadata": {
        "id": "A_aD4aSmpbUl"
      },
      "id": "A_aD4aSmpbUl"
    },
    {
      "cell_type": "code",
      "execution_count": 16,
      "id": "252f3423",
      "metadata": {
        "id": "252f3423",
        "outputId": "1cb4bfc8-0b1c-4b9b-baee-25900fdae893",
        "colab": {
          "base_uri": "https://localhost:8080/"
        }
      },
      "outputs": [
        {
          "output_type": "stream",
          "name": "stdout",
          "text": [
            "{1, 2, 3, 4}\n",
            "set()\n",
            "{1, 2, 3}\n",
            "{1, 2}\n",
            "{1, 2}\n",
            "set()\n",
            "True\n",
            "True\n",
            "True\n",
            "{1, 3}\n",
            "{1, 2, 3, 4, 5}\n",
            "{1, 2, 3, 4, 5}\n",
            "{1, 2, 3, 4, 5}\n"
          ]
        }
      ],
      "source": [
        "\n",
        "## Examples of Set Methods\n",
        "\n",
        "# 1. **Adding an Element**:\n",
        "#  ```python\n",
        "my_set = {1, 2, 3}\n",
        "my_set.add(4)\n",
        "print(my_set)  # Output: {1, 2, 3, 4}\n",
        "#  ```\n",
        "\n",
        "# 2. **Clearing a Set**:\n",
        "#  ```python\n",
        "my_set.clear()\n",
        "print(my_set)  # Output: set()\n",
        "#  ```\n",
        "\n",
        "# 3. **Copying a Set**:\n",
        "#  ```python\n",
        "original_set = {1, 2, 3}\n",
        "copied_set = original_set.copy()\n",
        "print(copied_set)  # Output: {1, 2, 3}\n",
        "#  ```\n",
        "\n",
        "# 4. **Difference Between Sets**:\n",
        "#  ```python\n",
        "set_a = {1, 2, 3}\n",
        "set_b = {3, 4, 5}\n",
        "difference = set_a.difference(set_b)\n",
        "print(difference)  # Output: {1, 2}\n",
        "#  ```\n",
        "\n",
        "# 5. **Updating with Difference**:\n",
        "#  ```python\n",
        "set_a.difference_update(set_b)\n",
        "print(set_a)  # Output: {1, 2}\n",
        "#  ```\n",
        "\n",
        "# 6. **Intersection of Sets**:\n",
        "#  ```python\n",
        "intersection = set_a.intersection(set_b)\n",
        "print(intersection)  # Output: {3}\n",
        "#  ```\n",
        "\n",
        "# 7. **Checking Disjoint Sets**:\n",
        "#  ```python\n",
        "print(set_a.isdisjoint(set_b))  # Output: True or False\n",
        "#  ```\n",
        "\n",
        "# 8. **Subset and Superset**:\n",
        "#  ```python\n",
        "set_c = {1, 2}\n",
        "print(set_c.issubset(set_a))  # Output: True\n",
        "print(set_a.issuperset(set_c))  # Output: True\n",
        "#  ```\n",
        "\n",
        "# 9. **Removing an Element**:\n",
        "#  ```python\n",
        "my_set = {1, 2, 3}\n",
        "my_set.remove(2)\n",
        "print(my_set)  # Output: {1, 3}\n",
        "#  ```\n",
        "\n",
        "# 10. **Symmetric Difference**:\n",
        "# ```python\n",
        "sym_diff = set_a.symmetric_difference(set_b)\n",
        "print(sym_diff)  # Output: {1, 2, 4, 5}\n",
        "# ```\n",
        "\n",
        "# 11. **Union of Sets**:\n",
        "# ```python\n",
        "union_set = set_a.union(set_b)\n",
        "print(union_set)  # Output: {1, 2, 3, 4, 5}\n",
        "# ```\n",
        "\n",
        "# 12. **Updating with Union**:\n",
        "# ```python\n",
        "set_a.update(set_b)\n",
        "print(set_a)  # Output: {1, 2, 3, 4, 5}\n",
        "# ```\n",
        "\n",
        "# These methods provide a robust framework for manipulating sets in Python, making them a\n",
        "# versatile choice for managing collections of unique items and performing mathematical set operations.\n",
        "\n",
        "# Citations:\n",
        "# [1] https://www.w3schools.com/python/python_ref_set.asp\n",
        "# [2] https://www.geeksforgeeks.org/python-sets/\n",
        "# [3] https://realpython.com/python-sets/\n",
        "# [4] https://stackoverflow.com/questions/139180/how-to-list-all-functions-in-a-module\n",
        "# [5] https://www.programiz.com/python-programming/set\n",
        "# [6] https://www.geeksforgeeks.org/sets-in-python/\n",
        "# [7] https://www.datacamp.com/tutorial/python-list-function\n",
        "# [8] https://stackoverflow.com/questions/2831212/python-sets-vs-lists"
      ]
    },
    {
      "cell_type": "code",
      "source": [],
      "metadata": {
        "id": "job92sz8prkR"
      },
      "id": "job92sz8prkR",
      "execution_count": null,
      "outputs": []
    }
  ],
  "metadata": {
    "kernelspec": {
      "display_name": "Python 3 (ipykernel)",
      "language": "python",
      "name": "python3"
    },
    "language_info": {
      "codemirror_mode": {
        "name": "ipython",
        "version": 3
      },
      "file_extension": ".py",
      "mimetype": "text/x-python",
      "name": "python",
      "nbconvert_exporter": "python",
      "pygments_lexer": "ipython3",
      "version": "3.11.3"
    },
    "colab": {
      "provenance": []
    }
  },
  "nbformat": 4,
  "nbformat_minor": 5
}