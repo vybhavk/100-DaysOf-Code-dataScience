{
  "cells": [
    {
      "cell_type": "markdown",
      "id": "5430ac25",
      "metadata": {
        "id": "5430ac25"
      },
      "source": [
        "#  -----------If ... Else------------"
      ]
    },
    {
      "cell_type": "code",
      "execution_count": null,
      "id": "5e4d74c8",
      "metadata": {
        "id": "5e4d74c8",
        "outputId": "23a82698-36e8-4ca8-99f3-a78b57fee92e"
      },
      "outputs": [
        {
          "name": "stdout",
          "output_type": "stream",
          "text": [
            "b is greater than a\n"
          ]
        }
      ],
      "source": [
        "a = 45\n",
        "b = 100\n",
        "if b > a:\n",
        "  print(\"b is greater than a\")"
      ]
    },
    {
      "cell_type": "code",
      "execution_count": null,
      "id": "7d673b55",
      "metadata": {
        "id": "7d673b55",
        "outputId": "c84a1d3e-fd4c-46a2-e2e8-716a9a38d839"
      },
      "outputs": [
        {
          "name": "stdout",
          "output_type": "stream",
          "text": [
            "a and b are equal\n"
          ]
        }
      ],
      "source": [
        "a = 24\n",
        "b = 24\n",
        "if b > a:\n",
        "  print(\"b is greater than a\")\n",
        "elif a == b:\n",
        "  print(\"a and b are equal\")"
      ]
    },
    {
      "cell_type": "code",
      "execution_count": null,
      "id": "b358f0d6",
      "metadata": {
        "id": "b358f0d6",
        "outputId": "3d195b62-a00c-4c1e-d1a1-819d13702859"
      },
      "outputs": [
        {
          "name": "stdout",
          "output_type": "stream",
          "text": [
            "a is greater than b\n"
          ]
        }
      ],
      "source": [
        "a = 100\n",
        "b = 45\n",
        "if b > a:\n",
        "  print(\"b is greater than a\")\n",
        "elif a == b:\n",
        "  print(\"a and b are equal\")\n",
        "else:\n",
        "  print(\"a is greater than b\")"
      ]
    },
    {
      "cell_type": "markdown",
      "id": "3b8ce23b",
      "metadata": {
        "id": "3b8ce23b"
      },
      "source": [
        "# --------------Python Loops-------------\n",
        "Python has two primitive loop commands:\n",
        "while loops\n",
        "for loops"
      ]
    },
    {
      "cell_type": "code",
      "execution_count": null,
      "id": "3c266164",
      "metadata": {
        "id": "3c266164",
        "outputId": "35dfacc1-63bc-4d25-cb01-7b175d0488d3"
      },
      "outputs": [
        {
          "name": "stdout",
          "output_type": "stream",
          "text": [
            "1\n",
            "2\n",
            "3\n"
          ]
        }
      ],
      "source": [
        "x = 1\n",
        "while x < 4:\n",
        "  print(x)\n",
        "  x = x + 1\n"
      ]
    },
    {
      "cell_type": "code",
      "execution_count": null,
      "id": "1611b5a4",
      "metadata": {
        "id": "1611b5a4",
        "outputId": "b1148e1e-8961-45e7-ab7a-92dc9f72ed92"
      },
      "outputs": [
        {
          "name": "stdout",
          "output_type": "stream",
          "text": [
            "1\n",
            "2\n",
            "3\n"
          ]
        }
      ],
      "source": [
        "#With the break statement we can stop the loop even if the while condition is true:\n",
        "x = 1\n",
        "while x < 4:\n",
        "  print(x)\n",
        "  if x == 3:\n",
        "    break\n",
        "  x = x + 1"
      ]
    },
    {
      "cell_type": "code",
      "execution_count": null,
      "id": "261163c9",
      "metadata": {
        "id": "261163c9",
        "outputId": "337bab2f-38f3-440d-a1d5-691167491383"
      },
      "outputs": [
        {
          "name": "stdout",
          "output_type": "stream",
          "text": [
            "1\n",
            "2\n",
            "4\n",
            "5\n"
          ]
        }
      ],
      "source": [
        "#With the continue statement we can stop the current iteration, and continue with the next:\n",
        "x = 0\n",
        "while x < 5:\n",
        "  x += 1\n",
        "  if x == 3:\n",
        "    continue\n",
        "  print(x)"
      ]
    },
    {
      "cell_type": "code",
      "source": [
        "import random\n",
        "max , min = 20, 1\n",
        "guess = 0\n",
        "guessed = random.randint(min, max)\n",
        "while guess != guessed:\n",
        "  print(guessed,guess)\n",
        "  guess = int(input(\"New number: \"))\n",
        "  if guess == 0:\n",
        "      print(\"Sorry that you're giving up!\")\n",
        "      break\n",
        "  elif guess > guessed:\n",
        "      print(\"Choose Lower value\")\n",
        "  elif guess < guessed:\n",
        "      print(\"Choose Upper Value\")\n",
        "else:\n",
        "    print(\"Congratulations. You made it!\")"
      ],
      "metadata": {
        "id": "Xwvm7IoiquZM",
        "outputId": "5b0321f8-8af1-4c3c-d1cc-db6d750fcde2",
        "colab": {
          "base_uri": "https://localhost:8080/"
        }
      },
      "id": "Xwvm7IoiquZM",
      "execution_count": 4,
      "outputs": [
        {
          "output_type": "stream",
          "name": "stdout",
          "text": [
            "6 0\n",
            "New number: 54\n",
            "Choose Lower value\n",
            "6 54\n",
            "New number: 44\n",
            "Choose Lower value\n",
            "6 44\n",
            "New number: 2\n",
            "Choose Upper Value\n",
            "6 2\n",
            "New number: 9\n",
            "Choose Lower value\n",
            "6 9\n",
            "New number: 2\n",
            "Choose Upper Value\n",
            "6 2\n",
            "New number: 6\n",
            "Congratulations. You made it!\n"
          ]
        }
      ]
    },
    {
      "cell_type": "code",
      "execution_count": null,
      "id": "edec7b3a",
      "metadata": {
        "id": "edec7b3a",
        "outputId": "1c344242-f682-4c0b-eb23-e21fa0128e8b"
      },
      "outputs": [
        {
          "name": "stdout",
          "output_type": "stream",
          "text": [
            "New number: 10\n",
            "Choose Upper Value\n",
            "New number: 15\n",
            "Choose Lower value\n",
            "New number: 12\n",
            "Choose Upper Value\n",
            "New number: 14\n",
            "Congratulations. You made it!\n"
          ]
        }
      ],
      "source": [
        "#Number Guessing Game Program In Python\n",
        "import random\n",
        "Max = 20\n",
        "Min = 1\n",
        "adaptive_Max = Max\n",
        "adaptive_Min = Min\n",
        "guessed = random.randint(Min, Max)\n",
        "guess = 0\n",
        "while guess != guessed:\n",
        "    guess = int(input(\"New number: \"))\n",
        "    if guess == 0:\n",
        "        print(\"Sorry that you're giving up!\")\n",
        "        break\n",
        "    elif guess > guessed:\n",
        "        adaptive_Max = guess - 1\n",
        "        print(\"Choose Lower value\")\n",
        "    elif guess < guessed:\n",
        "        adaptive_Max = guess + 1\n",
        "        print(\"Choose Upper Value\")\n",
        "else:\n",
        "    print(\"Congratulations. You made it!\")"
      ]
    },
    {
      "cell_type": "markdown",
      "id": "c592ffe6",
      "metadata": {
        "id": "c592ffe6"
      },
      "source": [
        "# ------------for Loop--------------"
      ]
    },
    {
      "cell_type": "code",
      "execution_count": null,
      "id": "9ee0a568",
      "metadata": {
        "id": "9ee0a568",
        "outputId": "af2b7c00-4930-441d-e4c7-4f232430583f"
      },
      "outputs": [
        {
          "name": "stdout",
          "output_type": "stream",
          "text": [
            "apple\n",
            "banana\n",
            "cherry\n"
          ]
        }
      ],
      "source": [
        "fruits = [\"apple\", \"banana\", \"cherry\"]\n",
        "for x in fruits:\n",
        "  print(x)"
      ]
    },
    {
      "cell_type": "code",
      "execution_count": null,
      "id": "b46e414f",
      "metadata": {
        "id": "b46e414f",
        "outputId": "6449c695-42a0-4fc4-dd0f-13944a8a9f97"
      },
      "outputs": [
        {
          "name": "stdout",
          "output_type": "stream",
          "text": [
            "apple\n",
            "banana\n"
          ]
        }
      ],
      "source": [
        "#With the break statement we can stop the loop before it has looped through all the items:\n",
        "fruits = [\"apple\", \"banana\", \"cherry\"]\n",
        "for x in fruits:\n",
        "  print(x)\n",
        "  if x == \"banana\":\n",
        "    break"
      ]
    },
    {
      "cell_type": "code",
      "execution_count": null,
      "id": "e9cca064",
      "metadata": {
        "id": "e9cca064",
        "outputId": "5dcd74bb-3e30-4659-c9a6-20a2050ff406"
      },
      "outputs": [
        {
          "name": "stdout",
          "output_type": "stream",
          "text": [
            "apple\n",
            "cherry\n"
          ]
        }
      ],
      "source": [
        "#With the continue statement we can stop the current iteration of the loop, and continue with the next:\n",
        "fruits = [\"apple\", \"banana\", \"cherry\"]\n",
        "for x in fruits:\n",
        "  if x == \"banana\":\n",
        "    continue\n",
        "  print(x)"
      ]
    },
    {
      "cell_type": "code",
      "execution_count": null,
      "id": "1648f51f",
      "metadata": {
        "id": "1648f51f",
        "outputId": "0a5ba519-fe76-4a75-b3e0-0643860c8ded"
      },
      "outputs": [
        {
          "name": "stdout",
          "output_type": "stream",
          "text": [
            "2\n",
            "3\n",
            "4\n",
            "5\n"
          ]
        }
      ],
      "source": [
        "for x in range(2, 6):\n",
        "  print(x)"
      ]
    },
    {
      "cell_type": "code",
      "execution_count": 5,
      "id": "97aab179",
      "metadata": {
        "id": "97aab179",
        "outputId": "690b3e6e-d4a9-4ddb-9a23-5b1ec9ed2388",
        "colab": {
          "base_uri": "https://localhost:8080/"
        }
      },
      "outputs": [
        {
          "output_type": "stream",
          "name": "stdout",
          "text": [
            "                            *  \n",
            "                           * *  \n",
            "                          * * *  \n",
            "                         * * * *  \n",
            "                        * * * * *  \n",
            "                       * * * * * *  \n",
            "                      * * * * * * *  \n",
            "                     * * * * * * * *  \n",
            "                    * * * * * * * * *  \n",
            "                   * * * * * * * * * *  \n",
            "                  * * * * * * * * * * *  \n",
            "                 * * * * * * * * * * * *  \n",
            "                * * * * * * * * * * * * *  \n",
            "               * * * * * * * * * * * * * *  \n",
            "              * * * * * * * * * * * * * * *  \n"
          ]
        }
      ],
      "source": [
        "#triangle pattern of star\n",
        "def pattern(n):\n",
        "      k = 2 * n - 2\n",
        "      for i in range(0,n):\n",
        "           for j in range(0,k):\n",
        "               print(end=\" \")\n",
        "           k = k - 1\n",
        "           for j in range(0, i+1):\n",
        "                print(\"*\", end=\" \")\n",
        "           print(\" \")\n",
        "\n",
        "pattern(15)"
      ]
    },
    {
      "cell_type": "code",
      "execution_count": 6,
      "id": "096433a7",
      "metadata": {
        "id": "096433a7",
        "outputId": "c35fa600-ee45-47f2-f5e5-9b08e3b001a2",
        "colab": {
          "base_uri": "https://localhost:8080/"
        }
      },
      "outputs": [
        {
          "output_type": "stream",
          "name": "stdout",
          "text": [
            "* \r\n",
            "* * \r\n",
            "* * * \r\n",
            "* * * * \r\n",
            "* * * * * \r\n",
            "* * * * \r\n",
            "* * * \r\n",
            "* * \r\n",
            "* \r\n",
            "\r\n"
          ]
        }
      ],
      "source": [
        "#Right start pattern of star\n",
        "rows = 5\n",
        "for i in range(0, rows):\n",
        "    for j in range(0, i + 1):\n",
        "        print(\"*\", end=' ')\n",
        "    print(\"\\r\")\n",
        "\n",
        "for i in range(rows, 0, -1):\n",
        "    for j in range(0, i - 1):\n",
        "        print(\"*\", end=' ')\n",
        "    print(\"\\r\")"
      ]
    },
    {
      "cell_type": "code",
      "execution_count": null,
      "id": "9bce24f7",
      "metadata": {
        "id": "9bce24f7",
        "outputId": "68b5ce0a-d08f-47a0-f741-68adfacce5a4"
      },
      "outputs": [
        {
          "name": "stdout",
          "output_type": "stream",
          "text": [
            "* * * * * \n",
            " * * * * \n",
            "  * * * \n",
            "   * * \n",
            "    * \n",
            "    * \n",
            "   * * \n",
            "  * * * \n",
            " * * * * \n",
            "* * * * * \n"
          ]
        }
      ],
      "source": [
        "#Sandglass pattern of star\n",
        "rows = 5\n",
        "i = 0\n",
        "while i <= rows - 1:\n",
        "    j = 0\n",
        "    while j < i:\n",
        "        # display space\n",
        "        print('', end=' ')\n",
        "        j += 1\n",
        "    k = i\n",
        "    while k <= rows - 1:\n",
        "        print('*', end=' ')\n",
        "        k += 1\n",
        "    print()\n",
        "    i += 1\n",
        "\n",
        "i = rows - 1\n",
        "while i >= 0:\n",
        "    j = 0\n",
        "    while j < i:\n",
        "        print('', end=' ')\n",
        "        j += 1\n",
        "    k = i\n",
        "    while k <= rows - 1:\n",
        "        print('*', end=' ')\n",
        "        k += 1\n",
        "    print('')\n",
        "    i -= 1"
      ]
    },
    {
      "cell_type": "code",
      "execution_count": null,
      "id": "acb6ef76",
      "metadata": {
        "id": "acb6ef76",
        "outputId": "c1279b24-2ea2-4977-a221-4c95860f4ee5"
      },
      "outputs": [
        {
          "name": "stdout",
          "output_type": "stream",
          "text": [
            "**************\n",
            "******__******\n",
            "*****____*****\n",
            "****______****\n",
            "***________***\n",
            "**__________**\n",
            "*____________*\n"
          ]
        }
      ],
      "source": [
        "#Pant style pattern of stars\n",
        "rows = 14\n",
        "print(\"*\" * rows, end=\"\\n\")\n",
        "i = (rows // 2) - 1\n",
        "j = 2\n",
        "while i != 0:\n",
        "    while j <= (rows - 2):\n",
        "        print(\"*\" * i, end=\"\")\n",
        "        print(\"_\" * j, end=\"\")\n",
        "        print(\"*\" * i, end=\"\\n\")\n",
        "        i = i - 1\n",
        "        j = j + 2"
      ]
    }
  ],
  "metadata": {
    "kernelspec": {
      "display_name": "Python 3 (ipykernel)",
      "language": "python",
      "name": "python3"
    },
    "language_info": {
      "codemirror_mode": {
        "name": "ipython",
        "version": 3
      },
      "file_extension": ".py",
      "mimetype": "text/x-python",
      "name": "python",
      "nbconvert_exporter": "python",
      "pygments_lexer": "ipython3",
      "version": "3.11.3"
    },
    "colab": {
      "provenance": []
    }
  },
  "nbformat": 4,
  "nbformat_minor": 5
}