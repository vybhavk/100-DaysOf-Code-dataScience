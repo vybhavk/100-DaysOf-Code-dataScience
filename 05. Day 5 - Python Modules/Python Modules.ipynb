{
  "cells": [
    {
      "cell_type": "markdown",
      "id": "7a97688c",
      "metadata": {
        "id": "7a97688c"
      },
      "source": [
        "# Python Modules\n",
        "There are two types of python modules:\n",
        "\n",
        "**Built-in modules\n",
        "\n",
        "**User-defined modules"
      ]
    },
    {
      "cell_type": "markdown",
      "id": "1f6ca2ae",
      "metadata": {
        "id": "1f6ca2ae"
      },
      "source": [
        "1. Built-in modules:\n",
        "\n",
        "math\n",
        "\n",
        "date\n",
        "\n",
        "os\n",
        "\n",
        "sys"
      ]
    },
    {
      "cell_type": "code",
      "source": [
        "import math\n",
        "cos90 = math.cos(90)\n",
        "sin0 = math.sin(0)\n",
        "tan45 = math.tan(45)\n",
        "pie = math.pi\n",
        "print(f\"Value of cos90 is: {cos90}\")\n",
        "print(f\"Value of sin0 is: {sin0}\")\n",
        "print(f\"Value of tan45 is: {tan45}\")\n",
        "print(f\"Value of pie is: {pie}\")"
      ],
      "metadata": {
        "id": "OCw6XgBManJE",
        "outputId": "21772e62-72f8-40ad-b3f3-ec5fed7bb816",
        "colab": {
          "base_uri": "https://localhost:8080/"
        }
      },
      "id": "OCw6XgBManJE",
      "execution_count": 4,
      "outputs": [
        {
          "output_type": "stream",
          "name": "stdout",
          "text": [
            "Value of cos90 is: -0.4480736161291701\n",
            "Value of sin0 is: 0.0\n",
            "Value of tan45 is: 1.6197751905438615\n",
            "Value of pie is: 3.141592653589793\n"
          ]
        }
      ]
    },
    {
      "cell_type": "code",
      "execution_count": null,
      "id": "228f43e7",
      "metadata": {
        "id": "228f43e7",
        "outputId": "db170482-3c4e-4cbb-9226-2f69e0106569"
      },
      "outputs": [
        {
          "name": "stdout",
          "output_type": "stream",
          "text": [
            "The value of tau is:  6.283185307179586\n",
            "euler's number is:  2.718281828459045\n"
          ]
        }
      ],
      "source": [
        "from math import e, tau\n",
        "print( \"The value of tau is: \", tau )\n",
        "print( \"euler's number is: \", e )"
      ]
    },
    {
      "cell_type": "code",
      "execution_count": null,
      "id": "d0388ce3",
      "metadata": {
        "id": "d0388ce3",
        "outputId": "c2359e3a-9561-43a6-ad74-7737f071f56c"
      },
      "outputs": [
        {
          "name": "stdout",
          "output_type": "stream",
          "text": [
            "10.0\n",
            "120\n",
            "3.141592653589793\n"
          ]
        }
      ],
      "source": [
        "from math import sqrt, factorial, pi\n",
        "print(sqrt(100))\n",
        "print(factorial(5))\n",
        "print(pi)"
      ]
    },
    {
      "cell_type": "code",
      "source": [
        "from math import sqrt, factorial, pi\n",
        "print(sqrt(500))\n",
        "print(factorial(25))\n",
        "print(pi)"
      ],
      "metadata": {
        "id": "aLcqG3vva4uh",
        "outputId": "28cc615c-28a2-42d1-e720-a53ce6a03f9c",
        "colab": {
          "base_uri": "https://localhost:8080/"
        }
      },
      "id": "aLcqG3vva4uh",
      "execution_count": 5,
      "outputs": [
        {
          "output_type": "stream",
          "name": "stdout",
          "text": [
            "22.360679774997898\n",
            "15511210043330985984000000\n",
            "3.141592653589793\n"
          ]
        }
      ]
    },
    {
      "cell_type": "code",
      "execution_count": 6,
      "id": "2624b11b",
      "metadata": {
        "id": "2624b11b",
        "outputId": "311ce5c4-3300-4551-bcc9-c6c2f0840569",
        "colab": {
          "base_uri": "https://localhost:8080/"
        }
      },
      "outputs": [
        {
          "output_type": "stream",
          "name": "stdout",
          "text": [
            "7\n",
            "5\n"
          ]
        }
      ],
      "source": [
        "import math\n",
        "x = math.ceil(6.4) #math.ceil() method rounds a number upwards to its nearest integer.\n",
        "y = math.floor(5.7) #math.floor() method rounds a number downwards to its nearest integer,\n",
        "print(x)\n",
        "print(y)"
      ]
    },
    {
      "cell_type": "code",
      "execution_count": null,
      "id": "d559f025",
      "metadata": {
        "id": "d559f025",
        "outputId": "0347450b-a6b7-425d-c2a2-2f5c32823e61"
      },
      "outputs": [
        {
          "name": "stdout",
          "output_type": "stream",
          "text": [
            "4 to the power of 3: 64\n"
          ]
        }
      ],
      "source": [
        "# The pow(x, y) function returns the value of x to the power of y (x^y).\n",
        "import math\n",
        "x = pow(4, 3)\n",
        "print(\"4 to the power of 3:\",x)"
      ]
    },
    {
      "cell_type": "code",
      "execution_count": null,
      "id": "2b43a103",
      "metadata": {
        "id": "2b43a103",
        "outputId": "dbe46396-96bd-4fe9-d4da-9bce4e0df4c4"
      },
      "outputs": [
        {
          "name": "stdout",
          "output_type": "stream",
          "text": [
            "Minimum value in x:  5\n",
            "Maximum value in y: 25\n"
          ]
        }
      ],
      "source": [
        "import math\n",
        "x = min(5, 10, 25)\n",
        "y = max(5, 10, 25)\n",
        "\n",
        "print(\"Minimum value in x: \",x)\n",
        "print('Maximum value in y:',y)"
      ]
    },
    {
      "cell_type": "code",
      "execution_count": null,
      "id": "b10dc22e",
      "metadata": {
        "id": "b10dc22e",
        "outputId": "d30b50e0-1a8d-4983-a28d-5388be96691d"
      },
      "outputs": [
        {
          "name": "stdout",
          "output_type": "stream",
          "text": [
            "49.25\n"
          ]
        }
      ],
      "source": [
        "#The abs() function returns the absolute (positive) value of the specified number:\n",
        "import math\n",
        "x = abs(-49.25)\n",
        "print(x)"
      ]
    },
    {
      "cell_type": "markdown",
      "id": "b76e42d1",
      "metadata": {
        "id": "b76e42d1"
      },
      "source": [
        "# Data & Time\n"
      ]
    },
    {
      "cell_type": "code",
      "execution_count": 9,
      "id": "a0608836",
      "metadata": {
        "id": "a0608836",
        "outputId": "ab928592-69aa-4718-bddf-3f0333d74b4f",
        "colab": {
          "base_uri": "https://localhost:8080/"
        }
      },
      "outputs": [
        {
          "output_type": "stream",
          "name": "stdout",
          "text": [
            "Month: 6\n",
            "Year: 2024\n",
            "Hour: 3\n",
            "Minute: 40\n"
          ]
        }
      ],
      "source": [
        "#using the datetime module\n",
        "import datetime\n",
        "now = datetime.datetime.now()\n",
        "month = now.month\n",
        "year = now.year\n",
        "hour = now.hour\n",
        "minute = now.minute\n",
        "print(f\"Month: {month}\")\n",
        "print(f\"Year: {year}\")\n",
        "print(f\"Hour: {hour}\")\n",
        "print(f\"Minute: {minute}\")"
      ]
    },
    {
      "cell_type": "code",
      "execution_count": 10,
      "id": "59750299",
      "metadata": {
        "id": "59750299",
        "outputId": "60c4b2f4-7837-4ab5-8a2c-13148fde158f",
        "colab": {
          "base_uri": "https://localhost:8080/"
        }
      },
      "outputs": [
        {
          "output_type": "stream",
          "name": "stdout",
          "text": [
            "1718682015.115304\n"
          ]
        }
      ],
      "source": [
        "import time\n",
        "print(time.time())"
      ]
    },
    {
      "cell_type": "code",
      "execution_count": 11,
      "id": "96724317",
      "metadata": {
        "id": "96724317",
        "outputId": "914b980d-e92d-485c-bc81-ef5002e62d4c",
        "colab": {
          "base_uri": "https://localhost:8080/"
        }
      },
      "outputs": [
        {
          "output_type": "stream",
          "name": "stdout",
          "text": [
            "Tue Jun 18 03:40:17 2024\n"
          ]
        }
      ],
      "source": [
        "#print the current time in human readable format\n",
        "import time\n",
        "print(time.ctime())"
      ]
    },
    {
      "cell_type": "code",
      "execution_count": 12,
      "id": "c6d73b27",
      "metadata": {
        "id": "c6d73b27",
        "outputId": "bb23c7ea-905a-4eb4-91e5-c66d98f7e20a",
        "colab": {
          "base_uri": "https://localhost:8080/"
        }
      },
      "outputs": [
        {
          "output_type": "stream",
          "name": "stdout",
          "text": [
            "Tue Jun 18 03:40:30 2024\n"
          ]
        }
      ],
      "source": [
        "#the sleep() function inside time module is used to delay execution of current time thread by the given number of seconds.\n",
        "import time\n",
        "time.sleep(10)\n",
        "print(time.ctime())"
      ]
    },
    {
      "cell_type": "code",
      "execution_count": null,
      "id": "2809b70b",
      "metadata": {
        "id": "2809b70b",
        "outputId": "04a1c804-2a9a-45b5-9b36-88dd7ac1c6b0"
      },
      "outputs": [
        {
          "name": "stdout",
          "output_type": "stream",
          "text": [
            "time.struct_time(tm_year=2022, tm_mon=7, tm_mday=24, tm_hour=19, tm_min=59, tm_sec=16, tm_wday=6, tm_yday=205, tm_isdst=0)\n"
          ]
        }
      ],
      "source": [
        "#To get the output of local time in struct_time format, use the localtime() function.\n",
        "import time\n",
        "\n",
        "print(time.localtime(1658672956.8853111))"
      ]
    },
    {
      "cell_type": "code",
      "execution_count": null,
      "id": "8c25e37d",
      "metadata": {
        "id": "8c25e37d",
        "outputId": "54f15392-9467-4fc3-ec21-1f5336fe0f57"
      },
      "outputs": [
        {
          "name": "stdout",
          "output_type": "stream",
          "text": [
            "time.struct_time(tm_year=2022, tm_mon=7, tm_mday=24, tm_hour=14, tm_min=29, tm_sec=16, tm_wday=6, tm_yday=205, tm_isdst=0)\n"
          ]
        }
      ],
      "source": [
        "#To get the output of Coordinated Universal Time in struct_time format, use the gmtime() function.\n",
        "import time\n",
        "print(time.gmtime(1658672956.8853111))"
      ]
    },
    {
      "cell_type": "code",
      "execution_count": null,
      "id": "9e740fba",
      "metadata": {
        "id": "9e740fba",
        "outputId": "c205d1db-b194-4b59-dac3-5002b795ba72"
      },
      "outputs": [
        {
          "name": "stdout",
          "output_type": "stream",
          "text": [
            "1658673879.0\n"
          ]
        }
      ],
      "source": [
        "#time.mktime():\n",
        "#We also have the reverse of localtime() function that prints seconds passed since epoch in local time.\n",
        "import time\n",
        "local_time = (2022, 7, 24, 20, 14, 39, 6, 205, 0)\n",
        "print(time.mktime(local_time))"
      ]
    },
    {
      "cell_type": "code",
      "execution_count": null,
      "id": "d0038380",
      "metadata": {
        "id": "d0038380",
        "outputId": "e2504291-a2c4-4d38-e31f-498a30c06115"
      },
      "outputs": [
        {
          "name": "stdout",
          "output_type": "stream",
          "text": [
            "Sun Jul 24 20:14:39 2022\n"
          ]
        }
      ],
      "source": [
        "#The asctime() function takes struct_time and prints a single string representing it.\n",
        "import time\n",
        "local_time = (2022, 7, 24, 20, 14, 39, 6, 205, 0)\n",
        "print(time.asctime(local_time))"
      ]
    },
    {
      "cell_type": "code",
      "execution_count": 16,
      "id": "71938a63",
      "metadata": {
        "id": "71938a63",
        "outputId": "7845634b-11c4-4b7b-dc5d-c1dff56f07fd",
        "colab": {
          "base_uri": "https://localhost:8080/"
        }
      },
      "outputs": [
        {
          "output_type": "stream",
          "name": "stdout",
          "text": [
            "time.struct_time(tm_year=2024, tm_mon=6, tm_mday=17, tm_hour=0, tm_min=0, tm_sec=0, tm_wday=0, tm_yday=169, tm_isdst=-1)\n"
          ]
        }
      ],
      "source": [
        "#time.strptime():\n",
        "#This function parses string based on given format and returns it in struct_time format.\n",
        "import time\n",
        "local_time = \"17 June, 2024\"\n",
        "print(time.strptime(local_time, \"%d %B, %Y\"))"
      ]
    },
    {
      "cell_type": "code",
      "execution_count": 15,
      "id": "60539943",
      "metadata": {
        "id": "60539943",
        "outputId": "34d19632-e068-436a-ec3a-3dfae658b277",
        "colab": {
          "base_uri": "https://localhost:8080/"
        }
      },
      "outputs": [
        {
          "output_type": "stream",
          "name": "stdout",
          "text": [
            "     June 2024\n",
            "Mo Tu We Th Fr Sa Su\n",
            "                1  2\n",
            " 3  4  5  6  7  8  9\n",
            "10 11 12 13 14 15 16\n",
            "17 18 19 20 21 22 23\n",
            "24 25 26 27 28 29 30\n",
            "\n"
          ]
        }
      ],
      "source": [
        "#Calendar:\n",
        "#We can even print a calendar for a particular month. This can be done using the calendar module.\n",
        "import calendar\n",
        "print(calendar.month(2024, 6))"
      ]
    },
    {
      "cell_type": "code",
      "execution_count": 13,
      "id": "12073630",
      "metadata": {
        "id": "12073630",
        "outputId": "69e561e4-0a6b-4806-c5dd-d7b1b79e7dfb",
        "colab": {
          "base_uri": "https://localhost:8080/",
          "height": 200
        }
      },
      "outputs": [
        {
          "output_type": "stream",
          "name": "stdout",
          "text": [
            "/content\n"
          ]
        },
        {
          "output_type": "error",
          "ename": "OSError",
          "evalue": "[Errno 6] No such device or address",
          "traceback": [
            "\u001b[0;31m---------------------------------------------------------------------------\u001b[0m",
            "\u001b[0;31mOSError\u001b[0m                                   Traceback (most recent call last)",
            "\u001b[0;32m<ipython-input-13-d977a9ef35dc>\u001b[0m in \u001b[0;36m<cell line: 3>\u001b[0;34m()\u001b[0m\n\u001b[1;32m      1\u001b[0m \u001b[0;32mimport\u001b[0m \u001b[0mos\u001b[0m\u001b[0;34m\u001b[0m\u001b[0;34m\u001b[0m\u001b[0m\n\u001b[1;32m      2\u001b[0m \u001b[0mprint\u001b[0m\u001b[0;34m(\u001b[0m\u001b[0mos\u001b[0m\u001b[0;34m.\u001b[0m\u001b[0mgetcwd\u001b[0m\u001b[0;34m(\u001b[0m\u001b[0;34m)\u001b[0m\u001b[0;34m)\u001b[0m\u001b[0;34m\u001b[0m\u001b[0;34m\u001b[0m\u001b[0m\n\u001b[0;32m----> 3\u001b[0;31m \u001b[0mprint\u001b[0m\u001b[0;34m(\u001b[0m\u001b[0mos\u001b[0m\u001b[0;34m.\u001b[0m\u001b[0mgetlogin\u001b[0m\u001b[0;34m(\u001b[0m\u001b[0;34m)\u001b[0m\u001b[0;34m)\u001b[0m\u001b[0;34m\u001b[0m\u001b[0;34m\u001b[0m\u001b[0m\n\u001b[0m",
            "\u001b[0;31mOSError\u001b[0m: [Errno 6] No such device or address"
          ]
        }
      ],
      "source": [
        "import os\n",
        "print(os.getcwd())\n",
        "print(os.getlogin())"
      ]
    },
    {
      "cell_type": "code",
      "execution_count": 17,
      "id": "11308b86",
      "metadata": {
        "id": "11308b86",
        "outputId": "b7cd00c1-82b9-44ac-8ba5-c7dc7ae149d3",
        "colab": {
          "base_uri": "https://localhost:8080/"
        }
      },
      "outputs": [
        {
          "output_type": "stream",
          "name": "stdout",
          "text": [
            "3.10.12 (main, Nov 20 2023, 15:14:05) [GCC 11.4.0]\n",
            "['/usr/local/lib/python3.10/dist-packages/colab_kernel_launcher.py', '-f', '/root/.local/share/jupyter/runtime/kernel-8ab6f366-1464-43b7-89bd-b6196f36f6de.json']\n"
          ]
        }
      ],
      "source": [
        "#  using the sys module\n",
        "import sys\n",
        "print(sys.version)\n",
        "print(sys.argv)"
      ]
    },
    {
      "cell_type": "code",
      "execution_count": 18,
      "id": "7fea41fd",
      "metadata": {
        "id": "7fea41fd",
        "outputId": "40539d27-72ed-49d7-dd30-06a521fe16f1",
        "colab": {
          "base_uri": "https://localhost:8080/"
        }
      },
      "outputs": [
        {
          "output_type": "stream",
          "name": "stdout",
          "text": [
            "{\"name\": \"John Doe\", \"age\": 30, \"city\": \"New York\"}\n"
          ]
        }
      ],
      "source": [
        "# using the json module\n",
        "import json\n",
        "data = {\n",
        "    \"name\": \"John Doe\",\n",
        "    \"age\": 30,\n",
        "    \"city\": \"New York\"\n",
        "}\n",
        "json_data = json.dumps(data)\n",
        "print(json_data)"
      ]
    },
    {
      "cell_type": "code",
      "execution_count": null,
      "id": "5ab91b59",
      "metadata": {
        "id": "5ab91b59",
        "outputId": "a953220d-7214-49cf-e0e3-30c821edca73"
      },
      "outputs": [
        {
          "name": "stdout",
          "output_type": "stream",
          "text": [
            "14\n",
            "1\n"
          ]
        }
      ],
      "source": [
        "#using the random module\n",
        "import random\n",
        "print(random.randint(1, 100))\n",
        "print(random.choice([1, 2, 3, 4, 5]))"
      ]
    },
    {
      "cell_type": "markdown",
      "id": "4f89d57b",
      "metadata": {
        "id": "4f89d57b"
      },
      "source": [
        "# User-defined modules in Python\n",
        "it is created by the user to simplify their project. These modules can contain functions, classes, variables, and other code that you can reuse across multiple scripts."
      ]
    },
    {
      "cell_type": "code",
      "execution_count": null,
      "id": "1f0f683d",
      "metadata": {
        "id": "1f0f683d",
        "outputId": "1dee81fc-3bfc-4971-ca9d-b6b199bc6344"
      },
      "outputs": [
        {
          "name": "stdout",
          "output_type": "stream",
          "text": [
            "Enter first number:4\n",
            "Enter second number:2\n",
            "Addition 6\n",
            "Subtraction 2\n",
            "Multiplication 8\n",
            "Division 2.0\n"
          ]
        }
      ],
      "source": [
        "import math\n",
        "\n",
        "num1 = int(input(\"Enter first number:\"))\n",
        "num2 = int(input(\"Enter second number:\"))\n",
        "\n",
        "print(\"Addition\",num1 + num2)\n",
        "print(\"Subtraction\", num1-num2)\n",
        "print(\"Multiplication\",num1 * num2)\n",
        "print(\"Division\", num1/num2)"
      ]
    },
    {
      "cell_type": "code",
      "execution_count": 19,
      "id": "1c2db554",
      "metadata": {
        "id": "1c2db554",
        "outputId": "a2c2a052-8e5e-4cd4-c586-7476ad2b66c2",
        "colab": {
          "base_uri": "https://localhost:8080/"
        }
      },
      "outputs": [
        {
          "output_type": "stream",
          "name": "stdout",
          "text": [
            "The number is: 204\n",
            "The number is: 404\n"
          ]
        }
      ],
      "source": [
        "Number = 204\n",
        "def AddNumber():\n",
        "    global Number\n",
        "    Number = Number + 200\n",
        "print(\"The number is:\", Number)\n",
        "# here, we are printing the number after performing the addition\n",
        "AddNumber()\n",
        "print(\"The number is:\", Number)"
      ]
    },
    {
      "cell_type": "code",
      "execution_count": null,
      "id": "c89a960c",
      "metadata": {
        "id": "c89a960c"
      },
      "outputs": [],
      "source": []
    }
  ],
  "metadata": {
    "kernelspec": {
      "display_name": "Python 3 (ipykernel)",
      "language": "python",
      "name": "python3"
    },
    "language_info": {
      "codemirror_mode": {
        "name": "ipython",
        "version": 3
      },
      "file_extension": ".py",
      "mimetype": "text/x-python",
      "name": "python",
      "nbconvert_exporter": "python",
      "pygments_lexer": "ipython3",
      "version": "3.11.3"
    },
    "colab": {
      "provenance": []
    }
  },
  "nbformat": 4,
  "nbformat_minor": 5
}