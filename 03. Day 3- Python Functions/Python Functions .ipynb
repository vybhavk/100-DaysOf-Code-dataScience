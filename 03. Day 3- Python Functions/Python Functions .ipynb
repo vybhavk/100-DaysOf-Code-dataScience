{
  "cells": [
    {
      "cell_type": "markdown",
      "id": "f88e343c",
      "metadata": {
        "id": "f88e343c"
      },
      "source": [
        "# -----------Python Functions-----------\n",
        "A function is a block of code that performs a specific task whenever it is called.\n",
        "There are two types of functions:\n",
        "built-in functions\n",
        "user-defined functions\n",
        "\n",
        "1. built-in functions:\n",
        "These functions are defined and pre-coded in python.  examples:\n",
        "min(), max(), len(), sum(), type(), range(), dict(), list(), tuple(), set(), print(), etc\n",
        "\n",
        "2. user-defined functions:\n",
        "We can create functions to perform specific tasks as per our needs. Such functions are called user-defined functions."
      ]
    },
    {
      "cell_type": "code",
      "execution_count": 2,
      "id": "34333d32",
      "metadata": {
        "id": "34333d32",
        "outputId": "3ce8cc85-d65c-4523-9160-f490bb7fec8e",
        "colab": {
          "base_uri": "https://localhost:8080/"
        }
      },
      "outputs": [
        {
          "output_type": "stream",
          "name": "stdout",
          "text": [
            "Hello, Vybha KC\n"
          ]
        }
      ],
      "source": [
        "def name(fname, lname):\n",
        "    print(\"Hello,\", fname, lname)\n",
        "\n",
        "name(\"Vybha\", \"KC\")"
      ]
    },
    {
      "cell_type": "markdown",
      "id": "8f034ccd",
      "metadata": {
        "id": "8f034ccd"
      },
      "source": [
        "# Function Arguments\n",
        "There are four types of arguments that we can provide in a function:\n",
        "1). Default Arguments\n",
        "2). Keyword Arguments\n",
        "3). Required Arguments\n",
        "4). Variable-length Arguments"
      ]
    },
    {
      "cell_type": "markdown",
      "id": "c7c03b57",
      "metadata": {
        "id": "c7c03b57"
      },
      "source": [
        "Default arguments:\n",
        "We can provide a default value while creating a function.\n",
        "This way the function assumes a default value even if a value is not provided in the function call for that argument."
      ]
    },
    {
      "cell_type": "code",
      "execution_count": 3,
      "id": "bbc8612e",
      "metadata": {
        "id": "bbc8612e",
        "outputId": "8a32048d-d946-43e2-eee6-436228da8448",
        "colab": {
          "base_uri": "https://localhost:8080/"
        }
      },
      "outputs": [
        {
          "output_type": "stream",
          "name": "stdout",
          "text": [
            "Hello, Amy Jack David\n"
          ]
        }
      ],
      "source": [
        "def name(fname, mname = \"Jack\", lname = \"David\"):\n",
        "    print(\"Hello,\", fname, mname, lname)\n",
        "\n",
        "name(\"Amy\")"
      ]
    },
    {
      "cell_type": "markdown",
      "id": "c9f9ddfd",
      "metadata": {
        "id": "c9f9ddfd"
      },
      "source": [
        "Keyword arguments:\n",
        "We can provide arguments with key = value, this way the interpreter recognizes the arguments by the parameter name. Hence, the the order in which the arguments are passed does not matter."
      ]
    },
    {
      "cell_type": "code",
      "execution_count": 4,
      "id": "36a857c0",
      "metadata": {
        "id": "36a857c0",
        "outputId": "ede053b7-e7dc-4cbd-e0fb-8be07126c977",
        "colab": {
          "base_uri": "https://localhost:8080/"
        }
      },
      "outputs": [
        {
          "output_type": "stream",
          "name": "stdout",
          "text": [
            "Hello, Jade Peter Wesker\n"
          ]
        }
      ],
      "source": [
        "def name(fname, mname, lname):\n",
        "    print(\"Hello,\", fname, mname, lname)\n",
        "\n",
        "name(mname = \"Peter\", lname = \"Wesker\", fname = \"Jade\")"
      ]
    },
    {
      "cell_type": "markdown",
      "id": "f88909a4",
      "metadata": {
        "id": "f88909a4"
      },
      "source": [
        "Required arguments:\n",
        "In case we don’t pass the arguments with a key = value syntax, then it is necessary to pass the arguments in the correct positional order and the number of arguments passed should match with actual function definition."
      ]
    },
    {
      "cell_type": "code",
      "execution_count": 5,
      "id": "e7fb927b",
      "metadata": {
        "id": "e7fb927b",
        "outputId": "6c3b41dd-2362-46b6-f08d-f027fba20385",
        "colab": {
          "base_uri": "https://localhost:8080/"
        }
      },
      "outputs": [
        {
          "output_type": "stream",
          "name": "stdout",
          "text": [
            "Hello, Peter Ego Quill\n"
          ]
        }
      ],
      "source": [
        "def name(fname, mname, lname):\n",
        "    print(\"Hello,\", fname, mname, lname)\n",
        "\n",
        "name(\"Peter\", \"Ego\", \"Quill\")"
      ]
    },
    {
      "cell_type": "markdown",
      "id": "640c8afa",
      "metadata": {
        "id": "640c8afa"
      },
      "source": [
        "Variable-length arguments:\n",
        "Sometimes we may need to pass more arguments than those defined in the actual function. This can be done using variable-length arguments.\n",
        "\n",
        "There are two ways to achieve this:\n",
        "Arbitrary Arguments:\n",
        "While creating a function, pass a * before the parameter name while defining the function."
      ]
    },
    {
      "cell_type": "code",
      "execution_count": 6,
      "id": "cbf7b9c2",
      "metadata": {
        "id": "cbf7b9c2",
        "outputId": "2f307bdf-a124-47a5-8509-deafbc47041d",
        "colab": {
          "base_uri": "https://localhost:8080/"
        }
      },
      "outputs": [
        {
          "output_type": "stream",
          "name": "stdout",
          "text": [
            "Hello, James Buchanan Barnes\n"
          ]
        }
      ],
      "source": [
        "def name(*name):\n",
        "    print(\"Hello,\", name[0], name[1], name[2])\n",
        "\n",
        "name(\"James\", \"Buchanan\", \"Barnes\")"
      ]
    },
    {
      "cell_type": "markdown",
      "id": "487a120b",
      "metadata": {
        "id": "487a120b"
      },
      "source": [
        "Keyword Arbitrary Arguments:\n"
      ]
    },
    {
      "cell_type": "code",
      "execution_count": 7,
      "id": "abd12682",
      "metadata": {
        "id": "abd12682",
        "outputId": "2677a15c-d8e5-4060-d514-4b4be2b93154",
        "colab": {
          "base_uri": "https://localhost:8080/"
        }
      },
      "outputs": [
        {
          "output_type": "stream",
          "name": "stdout",
          "text": [
            "Hello, James Buchanan Barnes\n"
          ]
        }
      ],
      "source": [
        "def name(**name):\n",
        "    print(\"Hello,\", name[\"fname\"], name[\"mname\"], name[\"lname\"])\n",
        "\n",
        "name(mname = \"Buchanan\", lname = \"Barnes\", fname = \"James\")"
      ]
    },
    {
      "cell_type": "markdown",
      "id": "f1db70d0",
      "metadata": {
        "id": "f1db70d0"
      },
      "source": [
        "# return Statement\n",
        "The return statement is used to return the value of the expression back to the main function."
      ]
    },
    {
      "cell_type": "code",
      "execution_count": 8,
      "id": "446dbd28",
      "metadata": {
        "id": "446dbd28",
        "outputId": "37bb2e55-bb77-43ee-ed95-829acb87263e",
        "colab": {
          "base_uri": "https://localhost:8080/"
        }
      },
      "outputs": [
        {
          "output_type": "stream",
          "name": "stdout",
          "text": [
            "Hello, James Buchanan Barnes\n"
          ]
        }
      ],
      "source": [
        "def name(fname, mname, lname):\n",
        "    return \"Hello, \" + fname + \" \" + mname + \" \" + lname\n",
        "\n",
        "print(name(\"James\", \"Buchanan\", \"Barnes\"))"
      ]
    },
    {
      "cell_type": "markdown",
      "id": "c5246f95",
      "metadata": {
        "id": "c5246f95"
      },
      "source": [
        "# Python Recursion\n",
        "We can let the function call itself, such a process is known as calling a function recursively in python."
      ]
    },
    {
      "cell_type": "code",
      "execution_count": 10,
      "id": "6ce1d916",
      "metadata": {
        "id": "6ce1d916",
        "outputId": "632c16c2-d97e-4a45-8093-163ddbdc153b",
        "colab": {
          "base_uri": "https://localhost:8080/"
        }
      },
      "outputs": [
        {
          "output_type": "stream",
          "name": "stdout",
          "text": [
            "Enter The Number 10\n",
            "number:  10\n",
            "Factorial:  3628800\n"
          ]
        }
      ],
      "source": [
        "def factorial(num):\n",
        "  if num == 0 or num == 1:\n",
        "    return 1\n",
        "  else:\n",
        "    return num * factorial(num-1)\n",
        "\n",
        "\n",
        "num = int(input(\"Enter The Number \"))\n",
        "print(\"number: \",num)\n",
        "print(\"Factorial: \",factorial(num))"
      ]
    },
    {
      "cell_type": "code",
      "execution_count": 12,
      "id": "77667ae1",
      "metadata": {
        "id": "77667ae1",
        "outputId": "34bd2aaa-d63b-40d3-a6c8-b77e2b3f324d",
        "colab": {
          "base_uri": "https://localhost:8080/"
        }
      },
      "outputs": [
        {
          "output_type": "stream",
          "name": "stdout",
          "text": [
            "Enter the length of password : 12\n",
            "Enter the number of passwords : 2\n",
            "0 LqvZ+`JQMmWA\n",
            "1 _OitMN@HZejS\n"
          ]
        }
      ],
      "source": [
        "#random Password Generator\n",
        "import random\n",
        "import string\n",
        "\n",
        "def generate_password(len):\n",
        "    chars = string.ascii_letters + string.ascii_lowercase + string.ascii_uppercase + string.punctuation\n",
        "    return ''.join([random.choice(chars) for i in range(len)])\n",
        "\n",
        "\n",
        "try:\n",
        "    password_len = int(input(\"Enter the length of password : \"))\n",
        "    no_of_passwords = int(input(\"Enter the number of passwords : \"))\n",
        "\n",
        "    for _ in range(no_of_passwords):\n",
        "        print(_, generate_password(password_len))\n",
        "\n",
        "except ValueError:\n",
        "    print(\"Invalid input. Please enter valid numbers for password length and number of passwords.\")\n"
      ]
    },
    {
      "cell_type": "code",
      "source": [
        "divmod(120,60)"
      ],
      "metadata": {
        "id": "AL03HK6YQsEl",
        "outputId": "7ac007ab-6a47-45ae-a7e6-43f4416d738f",
        "colab": {
          "base_uri": "https://localhost:8080/"
        }
      },
      "id": "AL03HK6YQsEl",
      "execution_count": 21,
      "outputs": [
        {
          "output_type": "execute_result",
          "data": {
            "text/plain": [
              "(2, 0)"
            ]
          },
          "metadata": {},
          "execution_count": 21
        }
      ]
    },
    {
      "cell_type": "code",
      "execution_count": 24,
      "id": "72807bf7",
      "metadata": {
        "id": "72807bf7",
        "outputId": "15ebd266-3093-474f-a5d4-357607c8a83a",
        "colab": {
          "base_uri": "https://localhost:8080/"
        }
      },
      "outputs": [
        {
          "output_type": "stream",
          "name": "stdout",
          "text": [
            "Enter the total seconds to countdown: 10\n",
            "0 10\n",
            "0 9\n",
            "0 8\n",
            "0 7\n",
            "0 6\n",
            "0 5\n",
            "0 4\n",
            "0 3\n",
            "0 2\n",
            "0 1\n"
          ]
        }
      ],
      "source": [
        "#Countdown Timer\n",
        "import time\n",
        "\n",
        "def Countdown(time_sec):\n",
        "    while time_sec > 0:\n",
        "      mins, secs = divmod(time_sec, 60)\n",
        "      print(mins, secs)\n",
        "      timeformat = '{:02d}:{:02d}'.format(mins, secs)\n",
        "      time.sleep(1)\n",
        "      time_sec-=1\n",
        "\n",
        "if __name__ == '__main__':\n",
        "    time_sec = int(input(\"Enter the total seconds to countdown: \"))\n",
        "    Countdown(time_sec)"
      ]
    },
    {
      "cell_type": "code",
      "execution_count": 25,
      "id": "1f855326",
      "metadata": {
        "id": "1f855326",
        "outputId": "c94a2b03-ddb4-4546-dc61-047198956766",
        "colab": {
          "base_uri": "https://localhost:8080/"
        }
      },
      "outputs": [
        {
          "output_type": "stream",
          "name": "stdout",
          "text": [
            "         1 \n",
            "        1 1 \n",
            "       1 2 1 \n",
            "      1 3 3 1 \n",
            "     1 4 6 4 1 \n",
            "    1 5 10 10 5 1 \n",
            "   1 6 15 20 15 6 1 \n",
            "  1 7 21 35 35 21 7 1 \n"
          ]
        }
      ],
      "source": [
        "#Pascal's Triangle\n",
        "from math import factorial\n",
        "def pascal_triangle(n):\n",
        "   for i in range(n):\n",
        "       for j in range(n-i+1):\n",
        "           print(end=' ')\n",
        "       for j in range(i+1):\n",
        "           print(factorial(i)//(factorial(j)*factorial(i-j)), end=' ')\n",
        "       print()\n",
        "\n",
        "if __name__ == '__main__':\n",
        "   pascal_triangle(8)"
      ]
    },
    {
      "cell_type": "code",
      "source": [],
      "metadata": {
        "id": "sGTYtZfHSWK8"
      },
      "id": "sGTYtZfHSWK8",
      "execution_count": null,
      "outputs": []
    }
  ],
  "metadata": {
    "kernelspec": {
      "display_name": "Python 3 (ipykernel)",
      "language": "python",
      "name": "python3"
    },
    "language_info": {
      "codemirror_mode": {
        "name": "ipython",
        "version": 3
      },
      "file_extension": ".py",
      "mimetype": "text/x-python",
      "name": "python",
      "nbconvert_exporter": "python",
      "pygments_lexer": "ipython3",
      "version": "3.11.3"
    },
    "colab": {
      "provenance": []
    }
  },
  "nbformat": 4,
  "nbformat_minor": 5
}